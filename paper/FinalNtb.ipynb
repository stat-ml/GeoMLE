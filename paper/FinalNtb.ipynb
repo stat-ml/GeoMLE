{
 "cells": [
  {
   "cell_type": "code",
   "execution_count": 1,
   "metadata": {},
   "outputs": [],
   "source": [
    "%load_ext autoreload\n",
    "%autoreload 2\n",
    "\n",
    "import sys\n",
    "import os\n",
    "sys.path.append('..')\n",
    "import warnings\n",
    "if not sys.warnoptions:\n",
    "    warnings.simplefilter(\"ignore\")"
   ]
  },
  {
   "cell_type": "code",
   "execution_count": 2,
   "metadata": {},
   "outputs": [],
   "source": [
    "from joblib import delayed, Parallel, parallel_backend\n",
    "import time\n",
    "from operator import itemgetter\n",
    "ig0 = itemgetter(0)\n",
    "ig1 = itemgetter(1)\n",
    "ig2 = itemgetter(2)"
   ]
  },
  {
   "cell_type": "code",
   "execution_count": 3,
   "metadata": {},
   "outputs": [],
   "source": [
    "#Import python packages\n",
    "from geomle import DataGenerator, geomle, mle\n",
    "\n",
    "#Import R packages\n",
    "import rpy2\n",
    "import rpy2.robjects as ro\n",
    "from rpy2.robjects.numpy2ri import ri2py, py2ri\n",
    "from rpy2.robjects.packages import importr\n",
    "intdimr = importr('intrinsicDimension')\n",
    "r_base = importr('base')\n",
    "\n",
    "#Import C++ packages\n",
    "import hein"
   ]
  },
  {
   "cell_type": "code",
   "execution_count": 4,
   "metadata": {},
   "outputs": [],
   "source": [
    "import numpy as np\n",
    "import pandas as pd\n",
    "from tqdm import tqdm\n",
    "\n",
    "from matplotlib import pyplot as plt\n",
    "%matplotlib inline"
   ]
  },
  {
   "cell_type": "code",
   "execution_count": 5,
   "metadata": {},
   "outputs": [],
   "source": [
    "def calculate_time(func): \n",
    "    def inner_func(*args, **kwargs): \n",
    "        begin = time.time() \n",
    "        res = func(*args, **kwargs) \n",
    "        end = time.time()\n",
    "        return res, end - begin\n",
    "    return inner_func"
   ]
  },
  {
   "cell_type": "code",
   "execution_count": 116,
   "metadata": {},
   "outputs": [],
   "source": [
    "# k1_sigmoid = lambda x: int(round(20 / (1 + np.exp( -0.05 * x))))\n",
    "# k2_sigmoid = lambda x: int(round(60 / (1 + np.exp( -0.03 * (x + 5)))))\n",
    "\n",
    "CPU_COUNT = os.cpu_count()\n",
    "k1_log = lambda x: int(np.round(3 * np.log(1/3 * x) + 10))\n",
    "k2_log = lambda x: int(np.round(12 * np.log(1/12 * (x + 10)) + 30))\n",
    "\n",
    "class DimEst():\n",
    "    def __init__(self):\n",
    "        self.names = ['MLE', 'GeoMLE', 'MIND', 'DANCo', 'ESS', 'PCA', 'CD', 'Hein']\n",
    "#         self.names = ['MLE', 'GeoMLE', 'MIND', 'ESS', 'PCA', 'CD', 'Hein']\n",
    "    \n",
    "    def estimateAllMethod(self, data_py):\n",
    "        data_r = py2ri(data_py.values)\n",
    "        dim = data_py.shape[1]\n",
    "        self.funcs = {'MLE':          self.mle(data_py),\n",
    "                      'GeoMLE':       self.geomle(data_py, dim),\n",
    "                      'MiND':         self.mind_mlk(data_r, dim),\n",
    "                      'DANCo':        self.danco(data_r, dim),\n",
    "                      'ESS':          self.ess(data_r),\n",
    "                      'PCA':          self.pca(data_r),\n",
    "                      'CD':           self.cd(data_py),\n",
    "                      'Hein':         self.hein(data_py)}\n",
    "        self.times = {key: ig1(val) for key, val in self.funcs.items()}\n",
    "        self.funcs = {key: ig0(val) for key, val in self.funcs.items()}\n",
    "        return self.funcs, self.times\n",
    "    \n",
    "    @staticmethod\n",
    "    @calculate_time\n",
    "    def mle(data):\n",
    "        return mle(data, k1=20, k2=55, average=True)[0].mean()\n",
    "    \n",
    "    @staticmethod\n",
    "    @calculate_time\n",
    "    def geomle(data, dim):\n",
    "#         k1 =  k1_log(dim)\n",
    "#         k2 =  k2_log(dim)\n",
    "        return geomle(data, k1=20, k2=55, nb_iter1=1, alpha=5e-3).mean()\n",
    "    \n",
    "    @staticmethod\n",
    "    @calculate_time\n",
    "    def mind_mlk(data, dim):\n",
    "        return intdimr.dancoDimEst(data, k=(20 + 55) // 2, D=dim, ver=\"MIND_MLk\").rx2('dim.est')[0]\n",
    "    \n",
    "    @staticmethod\n",
    "    @calculate_time\n",
    "    def danco(data, dim):\n",
    "        return intdimr.dancoDimEst(data, k=(20 + 55) // 2, D=dim, ver=\"DANCo\").rx2('dim.est')[0]\n",
    "    \n",
    "    @staticmethod\n",
    "    @calculate_time\n",
    "    def ess(data):\n",
    "        return intdimr.essLocalDimEst(data).rx2('dim.est')[0]\n",
    "    \n",
    "    @staticmethod\n",
    "    @calculate_time\n",
    "    def pca(data):\n",
    "        return intdimr.pcaLocalDimEst(data, 'FO').rx2('dim.est')[0]\n",
    "    \n",
    "    @staticmethod\n",
    "    @calculate_time\n",
    "    def hein(data):\n",
    "        res = hein.heindim(data)\n",
    "        return res[0]\n",
    "    \n",
    "    @staticmethod\n",
    "    @calculate_time\n",
    "    def cd(data):\n",
    "        res = hein.heindim(data)\n",
    "        return res[1]"
   ]
  },
  {
   "cell_type": "code",
   "execution_count": 117,
   "metadata": {},
   "outputs": [],
   "source": [
    "DE = DimEst()"
   ]
  },
  {
   "cell_type": "code",
   "execution_count": 118,
   "metadata": {},
   "outputs": [],
   "source": [
    "DG = DataGenerator()"
   ]
  },
  {
   "cell_type": "code",
   "execution_count": 119,
   "metadata": {},
   "outputs": [
    {
     "data": {
      "text/plain": [
       "dict_keys(['Helix1d', 'Helix2d', 'Helicoid', 'Spiral', 'Roll', 'Scurve', 'Star', 'Moebius', 'Sphere', 'Norm', 'Uniform', 'Cubic', 'Affine_3to5', 'Affine', 'Nonlinear_4to6', 'Nonlinear', 'Paraboloid'])"
      ]
     },
     "execution_count": 119,
     "metadata": {},
     "output_type": "execute_result"
    }
   ],
   "source": [
    "DG.dict_gen.keys()"
   ]
  },
  {
   "cell_type": "code",
   "execution_count": 120,
   "metadata": {},
   "outputs": [
    {
     "data": {
      "text/plain": [
       "{'MLE': 4.159317606740128,\n",
       " 'GeoMLE': 5.857447900193141,\n",
       " 'MiND': 4,\n",
       " 'DANCo': 5,\n",
       " 'ESS': 1.4489290575906717,\n",
       " 'PCA': 1,\n",
       " 'CD': 2.708155393600464,\n",
       " 'Hein': 3.0}"
      ]
     },
     "execution_count": 120,
     "metadata": {},
     "output_type": "execute_result"
    }
   ],
   "source": [
    "data = DG.gen_data('Paraboloid', 1000, 21, 6)\n",
    "DE.estimateAllMethod(data)[0]"
   ]
  },
  {
   "cell_type": "code",
   "execution_count": 121,
   "metadata": {},
   "outputs": [
    {
     "data": {
      "text/plain": [
       "{'MLE': 3.713450300138347,\n",
       " 'GeoMLE': 4.144922445552533,\n",
       " 'MiND': 4,\n",
       " 'DANCo': 5,\n",
       " 'ESS': 2.998079005110002,\n",
       " 'PCA': 5,\n",
       " 'CD': 3.8828516006469727,\n",
       " 'Hein': 4.0}"
      ]
     },
     "execution_count": 121,
     "metadata": {},
     "output_type": "execute_result"
    }
   ],
   "source": [
    "data = DG.gen_data('Nonlinear_4to6', 1000, 6, 4)\n",
    "DE.estimateAllMethod(data)[0]"
   ]
  },
  {
   "cell_type": "code",
   "execution_count": 122,
   "metadata": {},
   "outputs": [],
   "source": [
    "# DE.estimateAllMethod(data)[1]"
   ]
  },
  {
   "cell_type": "code",
   "execution_count": 123,
   "metadata": {},
   "outputs": [
    {
     "data": {
      "text/plain": [
       "{'MLE': 3.8538676445163946,\n",
       " 'GeoMLE': 3.9457740204973577,\n",
       " 'MiND': 4,\n",
       " 'DANCo': 4,\n",
       " 'ESS': 5.117706889110422,\n",
       " 'PCA': 5,\n",
       " 'CD': 3.7512459754943848,\n",
       " 'Hein': 4.0}"
      ]
     },
     "execution_count": 123,
     "metadata": {},
     "output_type": "execute_result"
    }
   ],
   "source": [
    "data = DG.gen_data('Sphere', 1000, 6, 4, 'uniform')\n",
    "DE.estimateAllMethod(data)[0]"
   ]
  },
  {
   "cell_type": "code",
   "execution_count": 124,
   "metadata": {},
   "outputs": [
    {
     "data": {
      "text/plain": [
       "{'MLE': 3.6840320886740607,\n",
       " 'GeoMLE': 3.9836083647587768,\n",
       " 'MiND': 4,\n",
       " 'DANCo': 5,\n",
       " 'ESS': 4.968565931670556,\n",
       " 'PCA': 5,\n",
       " 'CD': 3.651015520095825,\n",
       " 'Hein': 4.0}"
      ]
     },
     "execution_count": 124,
     "metadata": {},
     "output_type": "execute_result"
    }
   ],
   "source": [
    "data = DG.gen_data('Sphere', 1000, 6, 4, 'nonuniform')\n",
    "DE.estimateAllMethod(data)[0]"
   ]
  },
  {
   "cell_type": "code",
   "execution_count": 125,
   "metadata": {},
   "outputs": [
    {
     "data": {
      "text/plain": [
       "{'MLE': 22.760918003287422,\n",
       " 'GeoMLE': 42.04015022578717,\n",
       " 'MiND': 25,\n",
       " 'DANCo': 41,\n",
       " 'ESS': 41.00432259127065,\n",
       " 'PCA': 41,\n",
       " 'CD': 26.72852325439453,\n",
       " 'Hein': 27.0}"
      ]
     },
     "execution_count": 125,
     "metadata": {},
     "output_type": "execute_result"
    }
   ],
   "source": [
    "data = DG.gen_data('Sphere', 1000, 60, 40, 'nonuniform')\n",
    "DE.estimateAllMethod(data)[0]"
   ]
  },
  {
   "cell_type": "code",
   "execution_count": null,
   "metadata": {},
   "outputs": [],
   "source": []
  },
  {
   "cell_type": "markdown",
   "metadata": {},
   "source": [
    "## Decribing algorithm"
   ]
  },
  {
   "cell_type": "markdown",
   "metadata": {},
   "source": [
    "### Explain k1 and k2 dependancy"
   ]
  },
  {
   "cell_type": "code",
   "execution_count": 13,
   "metadata": {},
   "outputs": [],
   "source": [
    "ds = np.arange(2, 150)\n",
    "k1_log_arr = np.array(list(map(k1_log, ds)))\n",
    "k2_log_arr = np.array(list(map(k2_log, ds)))"
   ]
  },
  {
   "cell_type": "code",
   "execution_count": 14,
   "metadata": {},
   "outputs": [
    {
     "data": {
      "text/plain": [
       "[<matplotlib.lines.Line2D at 0x7f55152ef550>]"
      ]
     },
     "execution_count": 14,
     "metadata": {},
     "output_type": "execute_result"
    },
    {
     "data": {
      "image/png": "[encoded data removed]",
      "text/plain": [
       "<Figure size 432x288 with 1 Axes>"
      ]
     },
     "metadata": {
      "needs_background": "light"
     },
     "output_type": "display_data"
    }
   ],
   "source": [
    "plt.plot(ds, k1_log_arr)\n",
    "plt.plot(ds, k2_log_arr)"
   ]
  },
  {
   "cell_type": "markdown",
   "metadata": {},
   "source": [
    "### Explain main idea of algorithms"
   ]
  },
  {
   "cell_type": "code",
   "execution_count": 11,
   "metadata": {},
   "outputs": [],
   "source": [
    "from sklearn.linear_model import Ridge"
   ]
  },
  {
   "cell_type": "code",
   "execution_count": 12,
   "metadata": {},
   "outputs": [],
   "source": [
    "df = []\n",
    "name = 'Sphere'\n",
    "N = 1000\n",
    "ds = [6, 7, 8, 9]\n",
    "\n",
    "for d in ds:\n",
    "    data = DG.gen_data(name, N, d+1, d)\n",
    "    res, id_data = geomle(data, k1=7, k2=40, nb_iter1=1, debug=True)\n",
    "    df.append(id_data[0])"
   ]
  },
  {
   "cell_type": "code",
   "execution_count": 13,
   "metadata": {
    "scrolled": false
   },
   "outputs": [
    {
     "data": {
      "image/png": "[encoded data removed]",
      "text/plain": [
       "<Figure size 720x576 with 1 Axes>"
      ]
     },
     "metadata": {
      "needs_background": "light"
     },
     "output_type": "display_data"
    }
   ],
   "source": [
    "f, ax = plt.subplots(1, 1, figsize=(10, 8))\n",
    "\n",
    "\n",
    "alpha_poly = (1, 2)\n",
    "alpha_reg = 1e-2\n",
    "\n",
    "cm = plt.cm.get_cmap('Set1', 10)\n",
    "save_data = []\n",
    "\n",
    "\n",
    "for i in range(len(df)):\n",
    "    gr_df = df[i].groupby(['k', 'idx']).mean().reset_index().groupby('k')\n",
    "\n",
    "    x = gr_df['R'].mean().values\n",
    "    y = gr_df['dim'].mean().values\n",
    "    w = gr_df['dim'].std().values\n",
    "    save_data.append([x, y, w])\n",
    "    X = np.array([x ** i for i in alpha_poly]).T\n",
    "\n",
    "    xlin = np.linspace(0, x.max(), 100)\n",
    "    Xlin = np.array([xlin ** i for i in alpha_poly]).T\n",
    "    lm = Ridge(alpha=alpha_reg)\n",
    "    lm.fit(X, y, w **-1)\n",
    "    plt.errorbar(x, y, w * 0.1, fmt='o', color=cm(i), capsize=3, capthick=0.5)\n",
    "    plt.plot(xlin, lm.predict(Xlin), color=cm(i))\n",
    "\n",
    "# ax.legend()\n",
    "ax.grid()\n",
    "plt.show()\n"
   ]
  },
  {
   "cell_type": "code",
   "execution_count": 14,
   "metadata": {},
   "outputs": [],
   "source": [
    "np.save('result/exp_new.npy', save_data)"
   ]
  },
  {
   "cell_type": "markdown",
   "metadata": {},
   "source": [
    "## Density test"
   ]
  },
  {
   "cell_type": "code",
   "execution_count": 15,
   "metadata": {},
   "outputs": [],
   "source": [
    "def gen_sphere_data_with_distribution(n, dim, d, distrib):\n",
    "    if distrib == 'uniform':\n",
    "        V = np.random.randn(n,d + 1)\n",
    "    elif distrib == 'nonuniform':\n",
    "        V = (np.random.rand(n,d + 1) - 0.5) * 3\n",
    "    data = pd.DataFrame(np.hstack([V/np.sqrt(np.sum(V**2, axis=1))[:,None],\n",
    "                                          np.zeros((n, dim - d - 1))]))\n",
    "    assert data.shape == (n, dim)\n",
    "    return data"
   ]
  },
  {
   "cell_type": "code",
   "execution_count": 16,
   "metadata": {},
   "outputs": [
    {
     "data": {
      "image/png": "[encoded data removed]",
      "text/plain": [
       "<Figure size 720x360 with 2 Axes>"
      ]
     },
     "metadata": {
      "needs_background": "light"
     },
     "output_type": "display_data"
    }
   ],
   "source": [
    "plt.figure(figsize=(10, 5))\n",
    "plt.subplot(121)\n",
    "data = gen_sphere_data_with_distribution(5000, 5, 4, 'uniform')\n",
    "plt.hist2d(data[0], data[1], bins=30)\n",
    "\n",
    "plt.subplot(122)\n",
    "data = gen_sphere_data_with_distribution(5000, 5, 4, 'nonuniform')\n",
    "plt.hist2d(data[0], data[1], bins=30)\n",
    "\n",
    "plt.show()"
   ]
  },
  {
   "cell_type": "code",
   "execution_count": 18,
   "metadata": {},
   "outputs": [
    {
     "name": "stderr",
     "output_type": "stream",
     "text": [
      "100%|██████████| 10/10 [00:20<00:00,  2.09s/it]\n",
      "  0%|          | 0/10 [00:00<?, ?it/s]"
     ]
    },
    {
     "name": "stdout",
     "output_type": "stream",
     "text": [
      "Uniform\n",
      "MLE:    4.8659(0.0708)\n",
      "GeoMLE: 5.1343(0.1778)\n"
     ]
    },
    {
     "name": "stderr",
     "output_type": "stream",
     "text": [
      "100%|██████████| 10/10 [00:20<00:00,  2.08s/it]"
     ]
    },
    {
     "name": "stdout",
     "output_type": "stream",
     "text": [
      "NonUniform\n",
      "MLE:    4.5906(0.0485)\n",
      "GeoMLE: 4.9855(0.1169)\n"
     ]
    },
    {
     "name": "stderr",
     "output_type": "stream",
     "text": [
      "\n"
     ]
    }
   ],
   "source": [
    "res = []\n",
    "for i in tqdm(range(10)):\n",
    "    data = gen_sphere_data_with_distribution(1000, 7, 5, 'uniform')\n",
    "    res.append([mle(data)[0].mean(), geomle(data, nb_iter1=1, k1=10, k2=40).mean()])\n",
    "                \n",
    "mean = np.mean(res, axis=0)\n",
    "std = np.std(res, axis=0)\n",
    "print('Uniform')\n",
    "print('MLE:    {:.4f}({:.4f})'.format(mean[0], std[0]))\n",
    "print('GeoMLE: {:.4f}({:.4f})'.format(mean[1], std[1]))\n",
    "\n",
    "\n",
    "res = []\n",
    "for i in tqdm(range(10)):\n",
    "    data = gen_sphere_data_with_distribution(1000, 7, 5, 'nonuniform')\n",
    "    res.append([mle(data)[0].mean(), geomle(data, nb_iter1=1, k1=10, k2=40).mean()])\n",
    "                \n",
    "mean = np.mean(res, axis=0)\n",
    "std = np.std(res, axis=0)\n",
    "print('NonUniform')\n",
    "print('MLE:    {:.4f}({:.4f})'.format(mean[0], std[0]))\n",
    "print('GeoMLE: {:.4f}({:.4f})'.format(mean[1], std[1]))\n",
    "\n"
   ]
  },
  {
   "cell_type": "code",
   "execution_count": null,
   "metadata": {},
   "outputs": [],
   "source": []
  },
  {
   "cell_type": "markdown",
   "metadata": {},
   "source": [
    "## Funcs"
   ]
  },
  {
   "cell_type": "code",
   "execution_count": 126,
   "metadata": {},
   "outputs": [],
   "source": [
    "def run_one_test(args):\n",
    "    try:\n",
    "        data = DG.gen_data(name = args['name'],\n",
    "                           n = args['N'],\n",
    "                           dim = args['D'],\n",
    "                           d = args['d'],\n",
    "                           type_sample = args['type_sample'],\n",
    "                           noise = args['noise'])\n",
    "        res, t = DE.estimateAllMethod(data)\n",
    "        res['Dataset'] = args['name']\n",
    "        res['Num'] = args['N']\n",
    "        res['Dim'] = args['D']\n",
    "        res['RealDim'] = args['d']\n",
    "        t['Dataset'] = args['name']\n",
    "        t['Num'] = args['N']\n",
    "        t['Dim'] = args['D']\n",
    "        t['RealDim'] = args['d']\n",
    "        return list(res.values()), list(t.values())\n",
    "    except:\n",
    "        print('WRONG with {}'.format(args))\n"
   ]
  },
  {
   "cell_type": "code",
   "execution_count": 127,
   "metadata": {},
   "outputs": [],
   "source": [
    "def run_test(func, steps, const_args, n_repetition, n_jobs=CPU_COUNT, return_time=False):\n",
    "    with parallel_backend('multiprocessing'):\n",
    "        result = Parallel(n_jobs=n_jobs)(delayed(func)(add_args(const_args, step))\n",
    "                                 for step in tqdm(steps * n_repetition))\n",
    "    result = [i for i in result if i is not None]\n",
    "    times_res = np.array(list(map(ig1, result)))\n",
    "    dims_res = np.array(list(map(ig0, result)))\n",
    "    cols = DE.names + ['Dataset', 'Num', 'Dim', 'RealDim']\n",
    "    df_res = df = pd.DataFrame(dims_res, columns=cols)\n",
    "    df_time = pd.DataFrame(times_res, columns=cols)\n",
    "    df_res = df_res.set_index('Dataset').astype('float').reset_index()\n",
    "    df_time = df_time.set_index('Dataset').astype('float').reset_index()\n",
    "    return df_res, df_time"
   ]
  },
  {
   "cell_type": "markdown",
   "metadata": {},
   "source": [
    "## Dependacne of manifold dimension"
   ]
  },
  {
   "cell_type": "code",
   "execution_count": 21,
   "metadata": {},
   "outputs": [],
   "source": [
    "DE = DimEst()\n",
    "DG = DataGenerator()\n",
    "DG.dict_gen.keys()\n",
    "\n",
    "steps = np.arange(2, 100, 4).tolist()\n",
    "args = {'name': 'Sphere',\n",
    "        'D': 100,\n",
    "        'N': 1000,\n",
    "        'type_sample': 'uniform',\n",
    "        'noise': 0}"
   ]
  },
  {
   "cell_type": "code",
   "execution_count": 22,
   "metadata": {},
   "outputs": [],
   "source": [
    "def add_args(const_args, step):\n",
    "    args = {**const_args}\n",
    "    args['d'] = step\n",
    "    assert len({'name', 'D', 'd', 'N', 'type_sample', 'noise'} & set(args.keys())) == 6\n",
    "    return args"
   ]
  },
  {
   "cell_type": "code",
   "execution_count": 23,
   "metadata": {},
   "outputs": [
    {
     "name": "stderr",
     "output_type": "stream",
     "text": [
      "100%|██████████| 125/125 [08:38<00:00,  4.34s/it]\n"
     ]
    }
   ],
   "source": [
    "names = DE.names\n",
    "n_repetition = 5\n",
    "\n",
    "df, _ = run_test(run_one_test, steps, args, n_repetition)"
   ]
  },
  {
   "cell_type": "code",
   "execution_count": 24,
   "metadata": {},
   "outputs": [],
   "source": [
    "df_mean = df.groupby(['Dataset', 'Num', 'Dim', 'RealDim']).mean().reset_index()"
   ]
  },
  {
   "cell_type": "code",
   "execution_count": 25,
   "metadata": {
    "scrolled": false
   },
   "outputs": [
    {
     "data": {
      "image/png": "[encoded data removed]",
      "text/plain": [
       "<Figure size 720x576 with 1 Axes>"
      ]
     },
     "metadata": {
      "needs_background": "light"
     },
     "output_type": "display_data"
    }
   ],
   "source": [
    "f, ax = plt.subplots(1, 1, figsize=(10, 8))\n",
    "\n",
    "ax.plot(df_mean['RealDim'], df_mean['RealDim'], '--', color='black')\n",
    "for name in names:\n",
    "    ax.plot(df_mean['RealDim'], df_mean[name], label=name)\n",
    "    \n",
    "ax.legend()\n",
    "ax.grid()\n",
    "plt.show()"
   ]
  },
  {
   "cell_type": "code",
   "execution_count": 26,
   "metadata": {},
   "outputs": [],
   "source": [
    "df.to_csv('result/result_sphere.csv', index_label=False)"
   ]
  },
  {
   "cell_type": "code",
   "execution_count": null,
   "metadata": {},
   "outputs": [],
   "source": []
  },
  {
   "cell_type": "markdown",
   "metadata": {},
   "source": [
    "## Dolan More Curve"
   ]
  },
  {
   "cell_type": "code",
   "execution_count": 128,
   "metadata": {},
   "outputs": [],
   "source": [
    "DE = DimEst()\n",
    "DG = DataGenerator()"
   ]
  },
  {
   "cell_type": "code",
   "execution_count": 129,
   "metadata": {},
   "outputs": [
    {
     "data": {
      "text/plain": [
       "dict_keys(['Helix1d', 'Helix2d', 'Helicoid', 'Spiral', 'Roll', 'Scurve', 'Star', 'Moebius', 'Sphere', 'Norm', 'Uniform', 'Cubic', 'Affine_3to5', 'Affine', 'Nonlinear_4to6', 'Nonlinear', 'Paraboloid'])"
      ]
     },
     "execution_count": 129,
     "metadata": {},
     "output_type": "execute_result"
    }
   ],
   "source": [
    "DG.dict_gen.keys()"
   ]
  },
  {
   "cell_type": "code",
   "execution_count": 130,
   "metadata": {},
   "outputs": [],
   "source": [
    "steps = [\n",
    "    ('Sphere',  5,  3),\n",
    "    ('Sphere',  10, 5),\n",
    "    ('Sphere',  15, 10),\n",
    "    ('Sphere',  35, 30),\n",
    "    ('Sphere',  55, 50),\n",
    "    ('Sphere',  75, 70),\n",
    "    \n",
    "    ('Affine_3to5',  5,  3),\n",
    "    ('Affine',       5,  5),\n",
    "    ('Affine',       10, 10),\n",
    "    ('Affine',       20, 20),\n",
    "    \n",
    "    ('Nonlinear_4to6',  6,  4),\n",
    "    ('Nonlinear',       8,  4),\n",
    "    ('Nonlinear',       36, 6),\n",
    "    ('Nonlinear',       64, 8),\n",
    "    ('Nonlinear',       72, 12),\n",
    "    \n",
    "    ('Spiral',   3,  1),\n",
    "    ('Spiral',   13, 1),\n",
    "    ('Helix1d',  3,  1),\n",
    "    ('Helix1d',  13, 1),\n",
    "    ('Helix2d',  3,  2),\n",
    "    ('Helix2d',  13, 2),\n",
    "    ('Helicoid', 3,  2),\n",
    "    ('Helicoid', 13, 2),\n",
    "    ('Roll',     3,  2),\n",
    "    ('Roll',     13, 2),\n",
    "    ('Scurve',   3,  2),\n",
    "    ('Scurve',   13, 2),\n",
    "    ('Moebius',  3,  2),\n",
    "    \n",
    "    ('Uniform', 10, 5),\n",
    "    ('Uniform', 15, 10),\n",
    "    ('Uniform', 35, 30),\n",
    "    ('Uniform', 55, 50),\n",
    "    ('Uniform', 75, 70),\n",
    "     \n",
    "    ('Norm', 20, 20),\n",
    "    ('Norm', 50, 20),\n",
    "    ('Norm', 50, 50),\n",
    "    ('Norm', 70, 50),\n",
    "    \n",
    "    ('Paraboloid', 12, 3),\n",
    "    ('Paraboloid', 21, 6),\n",
    "    ('Paraboloid', 30, 9),\n",
    "    ('Paraboloid', 39, 12),\n",
    "    ('Paraboloid', 48, 15),\n",
    "    \n",
    "    ('Cubic', 5,  3),\n",
    "    ('Cubic', 35, 30),\n",
    "    ('Cubic', 90, 70),\n",
    "]"
   ]
  },
  {
   "cell_type": "code",
   "execution_count": 131,
   "metadata": {},
   "outputs": [
    {
     "data": {
      "text/plain": [
       "45"
      ]
     },
     "execution_count": 131,
     "metadata": {},
     "output_type": "execute_result"
    }
   ],
   "source": [
    "len(steps)"
   ]
  },
  {
   "cell_type": "code",
   "execution_count": 132,
   "metadata": {},
   "outputs": [],
   "source": [
    "def add_args(const_args, step):\n",
    "    args = {**const_args}\n",
    "    args['name'] = step[0]\n",
    "    args['D'] = step[1]\n",
    "    args['d'] = step[2]\n",
    "    assert len({'name', 'D', 'd', 'N', 'noise'} & set(args.keys())) == 5\n",
    "    return args"
   ]
  },
  {
   "cell_type": "code",
   "execution_count": 133,
   "metadata": {},
   "outputs": [
    {
     "name": "stderr",
     "output_type": "stream",
     "text": [
      " 96%|█████████▋| 217/225 [19:31<00:37,  4.68s/it]"
     ]
    },
    {
     "name": "stdout",
     "output_type": "stream",
     "text": [
      "[1]\n",
      " 1\n",
      "\n",
      "\n"
     ]
    },
    {
     "name": "stderr",
     "output_type": "stream",
     "text": [
      "\r",
      " 97%|█████████▋| 218/225 [19:36<00:32,  4.66s/it]"
     ]
    },
    {
     "name": "stdout",
     "output_type": "stream",
     "text": [
      "WRONG with {'N': 1000, 'noise': 0, 'type_sample': 'uniform', 'name': 'Roll', 'D': 13, 'd': 2}\n"
     ]
    },
    {
     "name": "stderr",
     "output_type": "stream",
     "text": [
      "100%|██████████| 225/225 [20:07<00:00,  6.55s/it]\n"
     ]
    }
   ],
   "source": [
    "n_repetition = 5\n",
    "args = {'N': 1000, 'noise': 0, 'type_sample': 'uniform'}\n",
    "df, df_time = run_test(run_one_test, steps, args, n_repetition)"
   ]
  },
  {
   "cell_type": "code",
   "execution_count": 134,
   "metadata": {},
   "outputs": [
    {
     "data": {
      "text/html": [
       "<div>\n",
       "<style scoped>\n",
       "    .dataframe tbody tr th:only-of-type {\n",
       "        vertical-align: middle;\n",
       "    }\n",
       "\n",
       "    .dataframe tbody tr th {\n",
       "        vertical-align: top;\n",
       "    }\n",
       "\n",
       "    .dataframe thead th {\n",
       "        text-align: right;\n",
       "    }\n",
       "</style>\n",
       "<table border=\"1\" class=\"dataframe\">\n",
       "  <thead>\n",
       "    <tr style=\"text-align: right;\">\n",
       "      <th></th>\n",
       "      <th></th>\n",
       "      <th></th>\n",
       "      <th></th>\n",
       "      <th>MLE</th>\n",
       "      <th>GeoMLE</th>\n",
       "      <th>MIND</th>\n",
       "      <th>DANCo</th>\n",
       "      <th>ESS</th>\n",
       "      <th>PCA</th>\n",
       "      <th>CD</th>\n",
       "      <th>Hein</th>\n",
       "    </tr>\n",
       "    <tr>\n",
       "      <th>Dataset</th>\n",
       "      <th>Num</th>\n",
       "      <th>Dim</th>\n",
       "      <th>RealDim</th>\n",
       "      <th></th>\n",
       "      <th></th>\n",
       "      <th></th>\n",
       "      <th></th>\n",
       "      <th></th>\n",
       "      <th></th>\n",
       "      <th></th>\n",
       "      <th></th>\n",
       "    </tr>\n",
       "  </thead>\n",
       "  <tbody>\n",
       "    <tr>\n",
       "      <th rowspan=\"3\" valign=\"top\">Affine</th>\n",
       "      <th rowspan=\"3\" valign=\"top\">1000.0</th>\n",
       "      <th>5.0</th>\n",
       "      <th>5.0</th>\n",
       "      <td>4.305258</td>\n",
       "      <td>5.000000</td>\n",
       "      <td>4.0</td>\n",
       "      <td>5.0</td>\n",
       "      <td>4.978156</td>\n",
       "      <td>5.0</td>\n",
       "      <td>4.574749</td>\n",
       "      <td>5.0</td>\n",
       "    </tr>\n",
       "    <tr>\n",
       "      <th>10.0</th>\n",
       "      <th>10.0</th>\n",
       "      <td>7.712303</td>\n",
       "      <td>9.912339</td>\n",
       "      <td>8.0</td>\n",
       "      <td>9.6</td>\n",
       "      <td>9.967358</td>\n",
       "      <td>10.0</td>\n",
       "      <td>8.314556</td>\n",
       "      <td>8.0</td>\n",
       "    </tr>\n",
       "    <tr>\n",
       "      <th>20.0</th>\n",
       "      <th>20.0</th>\n",
       "      <td>13.310821</td>\n",
       "      <td>19.687696</td>\n",
       "      <td>14.0</td>\n",
       "      <td>19.0</td>\n",
       "      <td>20.069427</td>\n",
       "      <td>20.0</td>\n",
       "      <td>14.577997</td>\n",
       "      <td>14.8</td>\n",
       "    </tr>\n",
       "    <tr>\n",
       "      <th>Affine_3to5</th>\n",
       "      <th>1000.0</th>\n",
       "      <th>5.0</th>\n",
       "      <th>3.0</th>\n",
       "      <td>2.738002</td>\n",
       "      <td>3.072325</td>\n",
       "      <td>3.0</td>\n",
       "      <td>3.0</td>\n",
       "      <td>2.592155</td>\n",
       "      <td>3.0</td>\n",
       "      <td>2.888834</td>\n",
       "      <td>3.0</td>\n",
       "    </tr>\n",
       "    <tr>\n",
       "      <th rowspan=\"3\" valign=\"top\">Cubic</th>\n",
       "      <th rowspan=\"3\" valign=\"top\">1000.0</th>\n",
       "      <th>5.0</th>\n",
       "      <th>3.0</th>\n",
       "      <td>3.046447</td>\n",
       "      <td>3.117651</td>\n",
       "      <td>3.0</td>\n",
       "      <td>4.0</td>\n",
       "      <td>3.990806</td>\n",
       "      <td>4.0</td>\n",
       "      <td>3.036158</td>\n",
       "      <td>3.0</td>\n",
       "    </tr>\n",
       "    <tr>\n",
       "      <th>35.0</th>\n",
       "      <th>30.0</th>\n",
       "      <td>18.235634</td>\n",
       "      <td>29.721372</td>\n",
       "      <td>19.2</td>\n",
       "      <td>29.8</td>\n",
       "      <td>30.631984</td>\n",
       "      <td>31.0</td>\n",
       "      <td>20.529007</td>\n",
       "      <td>21.0</td>\n",
       "    </tr>\n",
       "    <tr>\n",
       "      <th>90.0</th>\n",
       "      <th>70.0</th>\n",
       "      <td>31.211757</td>\n",
       "      <td>74.293434</td>\n",
       "      <td>33.8</td>\n",
       "      <td>69.6</td>\n",
       "      <td>71.025555</td>\n",
       "      <td>71.0</td>\n",
       "      <td>35.243558</td>\n",
       "      <td>37.2</td>\n",
       "    </tr>\n",
       "    <tr>\n",
       "      <th rowspan=\"2\" valign=\"top\">Helicoid</th>\n",
       "      <th rowspan=\"2\" valign=\"top\">1000.0</th>\n",
       "      <th>3.0</th>\n",
       "      <th>2.0</th>\n",
       "      <td>2.139040</td>\n",
       "      <td>2.314091</td>\n",
       "      <td>2.0</td>\n",
       "      <td>2.0</td>\n",
       "      <td>1.834995</td>\n",
       "      <td>2.0</td>\n",
       "      <td>1.938105</td>\n",
       "      <td>2.0</td>\n",
       "    </tr>\n",
       "    <tr>\n",
       "      <th>13.0</th>\n",
       "      <th>2.0</th>\n",
       "      <td>2.118204</td>\n",
       "      <td>2.222067</td>\n",
       "      <td>2.0</td>\n",
       "      <td>2.0</td>\n",
       "      <td>1.839164</td>\n",
       "      <td>2.0</td>\n",
       "      <td>2.022425</td>\n",
       "      <td>2.0</td>\n",
       "    </tr>\n",
       "    <tr>\n",
       "      <th rowspan=\"2\" valign=\"top\">Helix1d</th>\n",
       "      <th rowspan=\"2\" valign=\"top\">1000.0</th>\n",
       "      <th>3.0</th>\n",
       "      <th>1.0</th>\n",
       "      <td>1.088490</td>\n",
       "      <td>1.216671</td>\n",
       "      <td>1.0</td>\n",
       "      <td>1.0</td>\n",
       "      <td>2.632561</td>\n",
       "      <td>3.0</td>\n",
       "      <td>1.002036</td>\n",
       "      <td>1.0</td>\n",
       "    </tr>\n",
       "    <tr>\n",
       "      <th>13.0</th>\n",
       "      <th>1.0</th>\n",
       "      <td>1.086904</td>\n",
       "      <td>1.278032</td>\n",
       "      <td>1.0</td>\n",
       "      <td>1.0</td>\n",
       "      <td>2.636503</td>\n",
       "      <td>3.0</td>\n",
       "      <td>0.989992</td>\n",
       "      <td>1.0</td>\n",
       "    </tr>\n",
       "    <tr>\n",
       "      <th rowspan=\"2\" valign=\"top\">Helix2d</th>\n",
       "      <th rowspan=\"2\" valign=\"top\">1000.0</th>\n",
       "      <th>3.0</th>\n",
       "      <th>2.0</th>\n",
       "      <td>2.764936</td>\n",
       "      <td>2.677941</td>\n",
       "      <td>3.0</td>\n",
       "      <td>3.0</td>\n",
       "      <td>2.564205</td>\n",
       "      <td>3.0</td>\n",
       "      <td>1.973622</td>\n",
       "      <td>2.0</td>\n",
       "    </tr>\n",
       "    <tr>\n",
       "      <th>13.0</th>\n",
       "      <th>2.0</th>\n",
       "      <td>2.767395</td>\n",
       "      <td>2.810647</td>\n",
       "      <td>3.0</td>\n",
       "      <td>3.0</td>\n",
       "      <td>2.541431</td>\n",
       "      <td>3.0</td>\n",
       "      <td>2.041041</td>\n",
       "      <td>2.0</td>\n",
       "    </tr>\n",
       "    <tr>\n",
       "      <th>Moebius</th>\n",
       "      <th>1000.0</th>\n",
       "      <th>3.0</th>\n",
       "      <th>2.0</th>\n",
       "      <td>2.091290</td>\n",
       "      <td>1.278846</td>\n",
       "      <td>2.0</td>\n",
       "      <td>2.0</td>\n",
       "      <td>2.322124</td>\n",
       "      <td>3.0</td>\n",
       "      <td>2.040221</td>\n",
       "      <td>2.0</td>\n",
       "    </tr>\n",
       "    <tr>\n",
       "      <th rowspan=\"4\" valign=\"top\">Nonlinear</th>\n",
       "      <th rowspan=\"4\" valign=\"top\">1000.0</th>\n",
       "      <th>8.0</th>\n",
       "      <th>4.0</th>\n",
       "      <td>4.340946</td>\n",
       "      <td>3.320108</td>\n",
       "      <td>4.0</td>\n",
       "      <td>5.0</td>\n",
       "      <td>7.865763</td>\n",
       "      <td>8.0</td>\n",
       "      <td>3.815609</td>\n",
       "      <td>4.0</td>\n",
       "    </tr>\n",
       "    <tr>\n",
       "      <th>36.0</th>\n",
       "      <th>6.0</th>\n",
       "      <td>6.943705</td>\n",
       "      <td>6.708093</td>\n",
       "      <td>7.0</td>\n",
       "      <td>7.8</td>\n",
       "      <td>12.080227</td>\n",
       "      <td>12.0</td>\n",
       "      <td>5.776229</td>\n",
       "      <td>6.0</td>\n",
       "    </tr>\n",
       "    <tr>\n",
       "      <th>64.0</th>\n",
       "      <th>8.0</th>\n",
       "      <td>9.252331</td>\n",
       "      <td>10.690596</td>\n",
       "      <td>9.0</td>\n",
       "      <td>11.2</td>\n",
       "      <td>15.923075</td>\n",
       "      <td>16.0</td>\n",
       "      <td>7.912540</td>\n",
       "      <td>8.0</td>\n",
       "    </tr>\n",
       "    <tr>\n",
       "      <th>72.0</th>\n",
       "      <th>12.0</th>\n",
       "      <td>12.974117</td>\n",
       "      <td>17.306892</td>\n",
       "      <td>13.2</td>\n",
       "      <td>17.8</td>\n",
       "      <td>24.007460</td>\n",
       "      <td>24.0</td>\n",
       "      <td>12.154475</td>\n",
       "      <td>12.2</td>\n",
       "    </tr>\n",
       "    <tr>\n",
       "      <th>Nonlinear_4to6</th>\n",
       "      <th>1000.0</th>\n",
       "      <th>6.0</th>\n",
       "      <th>4.0</th>\n",
       "      <td>3.700495</td>\n",
       "      <td>4.127521</td>\n",
       "      <td>4.0</td>\n",
       "      <td>4.0</td>\n",
       "      <td>3.062024</td>\n",
       "      <td>5.0</td>\n",
       "      <td>3.609223</td>\n",
       "      <td>4.0</td>\n",
       "    </tr>\n",
       "    <tr>\n",
       "      <th rowspan=\"4\" valign=\"top\">Norm</th>\n",
       "      <th rowspan=\"4\" valign=\"top\">1000.0</th>\n",
       "      <th>20.0</th>\n",
       "      <th>20.0</th>\n",
       "      <td>13.873363</td>\n",
       "      <td>20.000000</td>\n",
       "      <td>15.0</td>\n",
       "      <td>20.0</td>\n",
       "      <td>19.785223</td>\n",
       "      <td>20.0</td>\n",
       "      <td>13.699330</td>\n",
       "      <td>14.6</td>\n",
       "    </tr>\n",
       "    <tr>\n",
       "      <th rowspan=\"2\" valign=\"top\">50.0</th>\n",
       "      <th>20.0</th>\n",
       "      <td>13.767693</td>\n",
       "      <td>21.519287</td>\n",
       "      <td>15.0</td>\n",
       "      <td>20.6</td>\n",
       "      <td>20.005668</td>\n",
       "      <td>20.0</td>\n",
       "      <td>13.841544</td>\n",
       "      <td>14.0</td>\n",
       "    </tr>\n",
       "    <tr>\n",
       "      <th>50.0</th>\n",
       "      <td>24.476454</td>\n",
       "      <td>50.000000</td>\n",
       "      <td>27.0</td>\n",
       "      <td>47.8</td>\n",
       "      <td>50.016444</td>\n",
       "      <td>50.0</td>\n",
       "      <td>24.326109</td>\n",
       "      <td>26.2</td>\n",
       "    </tr>\n",
       "    <tr>\n",
       "      <th>70.0</th>\n",
       "      <th>50.0</th>\n",
       "      <td>24.441226</td>\n",
       "      <td>52.875505</td>\n",
       "      <td>27.0</td>\n",
       "      <td>47.4</td>\n",
       "      <td>49.685605</td>\n",
       "      <td>50.0</td>\n",
       "      <td>24.307200</td>\n",
       "      <td>26.0</td>\n",
       "    </tr>\n",
       "    <tr>\n",
       "      <th rowspan=\"5\" valign=\"top\">Paraboloid</th>\n",
       "      <th rowspan=\"5\" valign=\"top\">1000.0</th>\n",
       "      <th>12.0</th>\n",
       "      <th>3.0</th>\n",
       "      <td>2.734067</td>\n",
       "      <td>3.062384</td>\n",
       "      <td>3.0</td>\n",
       "      <td>3.2</td>\n",
       "      <td>1.804378</td>\n",
       "      <td>1.2</td>\n",
       "      <td>2.041507</td>\n",
       "      <td>2.0</td>\n",
       "    </tr>\n",
       "    <tr>\n",
       "      <th>21.0</th>\n",
       "      <th>6.0</th>\n",
       "      <td>4.202450</td>\n",
       "      <td>5.961053</td>\n",
       "      <td>5.0</td>\n",
       "      <td>5.0</td>\n",
       "      <td>1.471528</td>\n",
       "      <td>1.0</td>\n",
       "      <td>2.677824</td>\n",
       "      <td>2.2</td>\n",
       "    </tr>\n",
       "    <tr>\n",
       "      <th>30.0</th>\n",
       "      <th>9.0</th>\n",
       "      <td>4.801959</td>\n",
       "      <td>9.033189</td>\n",
       "      <td>5.0</td>\n",
       "      <td>6.0</td>\n",
       "      <td>1.304623</td>\n",
       "      <td>1.0</td>\n",
       "      <td>2.898638</td>\n",
       "      <td>2.6</td>\n",
       "    </tr>\n",
       "    <tr>\n",
       "      <th>39.0</th>\n",
       "      <th>12.0</th>\n",
       "      <td>4.934400</td>\n",
       "      <td>12.250517</td>\n",
       "      <td>6.0</td>\n",
       "      <td>7.0</td>\n",
       "      <td>1.222877</td>\n",
       "      <td>1.0</td>\n",
       "      <td>3.263406</td>\n",
       "      <td>3.0</td>\n",
       "    </tr>\n",
       "    <tr>\n",
       "      <th>48.0</th>\n",
       "      <th>15.0</th>\n",
       "      <td>4.721062</td>\n",
       "      <td>13.886602</td>\n",
       "      <td>6.0</td>\n",
       "      <td>6.8</td>\n",
       "      <td>1.166538</td>\n",
       "      <td>1.0</td>\n",
       "      <td>3.264442</td>\n",
       "      <td>3.0</td>\n",
       "    </tr>\n",
       "    <tr>\n",
       "      <th rowspan=\"2\" valign=\"top\">Roll</th>\n",
       "      <th rowspan=\"2\" valign=\"top\">1000.0</th>\n",
       "      <th>3.0</th>\n",
       "      <th>2.0</th>\n",
       "      <td>1.956159</td>\n",
       "      <td>2.044432</td>\n",
       "      <td>2.0</td>\n",
       "      <td>2.0</td>\n",
       "      <td>2.958000</td>\n",
       "      <td>3.0</td>\n",
       "      <td>1.983678</td>\n",
       "      <td>2.0</td>\n",
       "    </tr>\n",
       "    <tr>\n",
       "      <th>13.0</th>\n",
       "      <th>2.0</th>\n",
       "      <td>1.952086</td>\n",
       "      <td>2.207737</td>\n",
       "      <td>2.0</td>\n",
       "      <td>2.0</td>\n",
       "      <td>2.977422</td>\n",
       "      <td>3.0</td>\n",
       "      <td>1.993772</td>\n",
       "      <td>2.0</td>\n",
       "    </tr>\n",
       "    <tr>\n",
       "      <th rowspan=\"2\" valign=\"top\">Scurve</th>\n",
       "      <th rowspan=\"2\" valign=\"top\">1000.0</th>\n",
       "      <th>3.0</th>\n",
       "      <th>2.0</th>\n",
       "      <td>1.912767</td>\n",
       "      <td>2.041083</td>\n",
       "      <td>2.0</td>\n",
       "      <td>2.0</td>\n",
       "      <td>2.220897</td>\n",
       "      <td>3.0</td>\n",
       "      <td>1.985736</td>\n",
       "      <td>2.0</td>\n",
       "    </tr>\n",
       "    <tr>\n",
       "      <th>13.0</th>\n",
       "      <th>2.0</th>\n",
       "      <td>1.912798</td>\n",
       "      <td>2.011035</td>\n",
       "      <td>2.0</td>\n",
       "      <td>2.0</td>\n",
       "      <td>2.179040</td>\n",
       "      <td>3.0</td>\n",
       "      <td>1.926215</td>\n",
       "      <td>2.0</td>\n",
       "    </tr>\n",
       "    <tr>\n",
       "      <th rowspan=\"6\" valign=\"top\">Sphere</th>\n",
       "      <th rowspan=\"6\" valign=\"top\">1000.0</th>\n",
       "      <th>5.0</th>\n",
       "      <th>3.0</th>\n",
       "      <td>2.972343</td>\n",
       "      <td>3.081803</td>\n",
       "      <td>3.0</td>\n",
       "      <td>4.0</td>\n",
       "      <td>3.967764</td>\n",
       "      <td>4.0</td>\n",
       "      <td>3.006982</td>\n",
       "      <td>3.0</td>\n",
       "    </tr>\n",
       "    <tr>\n",
       "      <th>10.0</th>\n",
       "      <th>5.0</th>\n",
       "      <td>4.759788</td>\n",
       "      <td>5.092993</td>\n",
       "      <td>5.0</td>\n",
       "      <td>6.0</td>\n",
       "      <td>6.027623</td>\n",
       "      <td>6.0</td>\n",
       "      <td>5.028022</td>\n",
       "      <td>5.0</td>\n",
       "    </tr>\n",
       "    <tr>\n",
       "      <th>15.0</th>\n",
       "      <th>10.0</th>\n",
       "      <td>8.533141</td>\n",
       "      <td>10.377820</td>\n",
       "      <td>9.0</td>\n",
       "      <td>11.0</td>\n",
       "      <td>11.071274</td>\n",
       "      <td>11.0</td>\n",
       "      <td>9.371253</td>\n",
       "      <td>9.0</td>\n",
       "    </tr>\n",
       "    <tr>\n",
       "      <th>35.0</th>\n",
       "      <th>30.0</th>\n",
       "      <td>18.985804</td>\n",
       "      <td>32.463958</td>\n",
       "      <td>20.4</td>\n",
       "      <td>30.8</td>\n",
       "      <td>30.969825</td>\n",
       "      <td>31.0</td>\n",
       "      <td>23.095783</td>\n",
       "      <td>23.4</td>\n",
       "    </tr>\n",
       "    <tr>\n",
       "      <th>55.0</th>\n",
       "      <th>50.0</th>\n",
       "      <td>26.528460</td>\n",
       "      <td>52.898723</td>\n",
       "      <td>28.4</td>\n",
       "      <td>51.2</td>\n",
       "      <td>51.089642</td>\n",
       "      <td>51.0</td>\n",
       "      <td>31.113284</td>\n",
       "      <td>32.4</td>\n",
       "    </tr>\n",
       "    <tr>\n",
       "      <th>75.0</th>\n",
       "      <th>70.0</th>\n",
       "      <td>32.671610</td>\n",
       "      <td>70.743789</td>\n",
       "      <td>35.2</td>\n",
       "      <td>70.4</td>\n",
       "      <td>70.533346</td>\n",
       "      <td>71.0</td>\n",
       "      <td>38.923859</td>\n",
       "      <td>40.4</td>\n",
       "    </tr>\n",
       "    <tr>\n",
       "      <th rowspan=\"2\" valign=\"top\">Spiral</th>\n",
       "      <th rowspan=\"2\" valign=\"top\">1000.0</th>\n",
       "      <th>3.0</th>\n",
       "      <th>1.0</th>\n",
       "      <td>1.740074</td>\n",
       "      <td>1.547418</td>\n",
       "      <td>2.0</td>\n",
       "      <td>2.0</td>\n",
       "      <td>2.084984</td>\n",
       "      <td>2.0</td>\n",
       "      <td>0.972060</td>\n",
       "      <td>1.0</td>\n",
       "    </tr>\n",
       "    <tr>\n",
       "      <th>13.0</th>\n",
       "      <th>1.0</th>\n",
       "      <td>1.736327</td>\n",
       "      <td>1.559839</td>\n",
       "      <td>2.0</td>\n",
       "      <td>2.0</td>\n",
       "      <td>2.098838</td>\n",
       "      <td>2.0</td>\n",
       "      <td>0.992213</td>\n",
       "      <td>1.0</td>\n",
       "    </tr>\n",
       "    <tr>\n",
       "      <th rowspan=\"5\" valign=\"top\">Uniform</th>\n",
       "      <th rowspan=\"5\" valign=\"top\">1000.0</th>\n",
       "      <th>10.0</th>\n",
       "      <th>5.0</th>\n",
       "      <td>4.310223</td>\n",
       "      <td>4.740012</td>\n",
       "      <td>4.4</td>\n",
       "      <td>5.0</td>\n",
       "      <td>5.010652</td>\n",
       "      <td>5.0</td>\n",
       "      <td>4.776037</td>\n",
       "      <td>4.8</td>\n",
       "    </tr>\n",
       "    <tr>\n",
       "      <th>15.0</th>\n",
       "      <th>10.0</th>\n",
       "      <td>7.787836</td>\n",
       "      <td>9.176881</td>\n",
       "      <td>8.0</td>\n",
       "      <td>9.8</td>\n",
       "      <td>10.115493</td>\n",
       "      <td>10.0</td>\n",
       "      <td>8.425551</td>\n",
       "      <td>8.6</td>\n",
       "    </tr>\n",
       "    <tr>\n",
       "      <th>35.0</th>\n",
       "      <th>30.0</th>\n",
       "      <td>17.839916</td>\n",
       "      <td>29.365858</td>\n",
       "      <td>19.0</td>\n",
       "      <td>28.8</td>\n",
       "      <td>29.934330</td>\n",
       "      <td>30.0</td>\n",
       "      <td>19.509309</td>\n",
       "      <td>20.6</td>\n",
       "    </tr>\n",
       "    <tr>\n",
       "      <th>55.0</th>\n",
       "      <th>50.0</th>\n",
       "      <td>24.935675</td>\n",
       "      <td>51.173918</td>\n",
       "      <td>27.0</td>\n",
       "      <td>49.0</td>\n",
       "      <td>49.359511</td>\n",
       "      <td>50.0</td>\n",
       "      <td>28.217013</td>\n",
       "      <td>30.4</td>\n",
       "    </tr>\n",
       "    <tr>\n",
       "      <th>75.0</th>\n",
       "      <th>70.0</th>\n",
       "      <td>31.016346</td>\n",
       "      <td>73.698438</td>\n",
       "      <td>33.8</td>\n",
       "      <td>69.2</td>\n",
       "      <td>70.855069</td>\n",
       "      <td>70.0</td>\n",
       "      <td>35.588058</td>\n",
       "      <td>38.2</td>\n",
       "    </tr>\n",
       "  </tbody>\n",
       "</table>\n",
       "</div>"
      ],
      "text/plain": [
       "                                          MLE     GeoMLE  MIND  DANCo  \\\n",
       "Dataset        Num    Dim  RealDim                                      \n",
       "Affine         1000.0 5.0  5.0       4.305258   5.000000   4.0    5.0   \n",
       "                      10.0 10.0      7.712303   9.912339   8.0    9.6   \n",
       "                      20.0 20.0     13.310821  19.687696  14.0   19.0   \n",
       "Affine_3to5    1000.0 5.0  3.0       2.738002   3.072325   3.0    3.0   \n",
       "Cubic          1000.0 5.0  3.0       3.046447   3.117651   3.0    4.0   \n",
       "                      35.0 30.0     18.235634  29.721372  19.2   29.8   \n",
       "                      90.0 70.0     31.211757  74.293434  33.8   69.6   \n",
       "Helicoid       1000.0 3.0  2.0       2.139040   2.314091   2.0    2.0   \n",
       "                      13.0 2.0       2.118204   2.222067   2.0    2.0   \n",
       "Helix1d        1000.0 3.0  1.0       1.088490   1.216671   1.0    1.0   \n",
       "                      13.0 1.0       1.086904   1.278032   1.0    1.0   \n",
       "Helix2d        1000.0 3.0  2.0       2.764936   2.677941   3.0    3.0   \n",
       "                      13.0 2.0       2.767395   2.810647   3.0    3.0   \n",
       "Moebius        1000.0 3.0  2.0       2.091290   1.278846   2.0    2.0   \n",
       "Nonlinear      1000.0 8.0  4.0       4.340946   3.320108   4.0    5.0   \n",
       "                      36.0 6.0       6.943705   6.708093   7.0    7.8   \n",
       "                      64.0 8.0       9.252331  10.690596   9.0   11.2   \n",
       "                      72.0 12.0     12.974117  17.306892  13.2   17.8   \n",
       "Nonlinear_4to6 1000.0 6.0  4.0       3.700495   4.127521   4.0    4.0   \n",
       "Norm           1000.0 20.0 20.0     13.873363  20.000000  15.0   20.0   \n",
       "                      50.0 20.0     13.767693  21.519287  15.0   20.6   \n",
       "                           50.0     24.476454  50.000000  27.0   47.8   \n",
       "                      70.0 50.0     24.441226  52.875505  27.0   47.4   \n",
       "Paraboloid     1000.0 12.0 3.0       2.734067   3.062384   3.0    3.2   \n",
       "                      21.0 6.0       4.202450   5.961053   5.0    5.0   \n",
       "                      30.0 9.0       4.801959   9.033189   5.0    6.0   \n",
       "                      39.0 12.0      4.934400  12.250517   6.0    7.0   \n",
       "                      48.0 15.0      4.721062  13.886602   6.0    6.8   \n",
       "Roll           1000.0 3.0  2.0       1.956159   2.044432   2.0    2.0   \n",
       "                      13.0 2.0       1.952086   2.207737   2.0    2.0   \n",
       "Scurve         1000.0 3.0  2.0       1.912767   2.041083   2.0    2.0   \n",
       "                      13.0 2.0       1.912798   2.011035   2.0    2.0   \n",
       "Sphere         1000.0 5.0  3.0       2.972343   3.081803   3.0    4.0   \n",
       "                      10.0 5.0       4.759788   5.092993   5.0    6.0   \n",
       "                      15.0 10.0      8.533141  10.377820   9.0   11.0   \n",
       "                      35.0 30.0     18.985804  32.463958  20.4   30.8   \n",
       "                      55.0 50.0     26.528460  52.898723  28.4   51.2   \n",
       "                      75.0 70.0     32.671610  70.743789  35.2   70.4   \n",
       "Spiral         1000.0 3.0  1.0       1.740074   1.547418   2.0    2.0   \n",
       "                      13.0 1.0       1.736327   1.559839   2.0    2.0   \n",
       "Uniform        1000.0 10.0 5.0       4.310223   4.740012   4.4    5.0   \n",
       "                      15.0 10.0      7.787836   9.176881   8.0    9.8   \n",
       "                      35.0 30.0     17.839916  29.365858  19.0   28.8   \n",
       "                      55.0 50.0     24.935675  51.173918  27.0   49.0   \n",
       "                      75.0 70.0     31.016346  73.698438  33.8   69.2   \n",
       "\n",
       "                                          ESS   PCA         CD  Hein  \n",
       "Dataset        Num    Dim  RealDim                                    \n",
       "Affine         1000.0 5.0  5.0       4.978156   5.0   4.574749   5.0  \n",
       "                      10.0 10.0      9.967358  10.0   8.314556   8.0  \n",
       "                      20.0 20.0     20.069427  20.0  14.577997  14.8  \n",
       "Affine_3to5    1000.0 5.0  3.0       2.592155   3.0   2.888834   3.0  \n",
       "Cubic          1000.0 5.0  3.0       3.990806   4.0   3.036158   3.0  \n",
       "                      35.0 30.0     30.631984  31.0  20.529007  21.0  \n",
       "                      90.0 70.0     71.025555  71.0  35.243558  37.2  \n",
       "Helicoid       1000.0 3.0  2.0       1.834995   2.0   1.938105   2.0  \n",
       "                      13.0 2.0       1.839164   2.0   2.022425   2.0  \n",
       "Helix1d        1000.0 3.0  1.0       2.632561   3.0   1.002036   1.0  \n",
       "                      13.0 1.0       2.636503   3.0   0.989992   1.0  \n",
       "Helix2d        1000.0 3.0  2.0       2.564205   3.0   1.973622   2.0  \n",
       "                      13.0 2.0       2.541431   3.0   2.041041   2.0  \n",
       "Moebius        1000.0 3.0  2.0       2.322124   3.0   2.040221   2.0  \n",
       "Nonlinear      1000.0 8.0  4.0       7.865763   8.0   3.815609   4.0  \n",
       "                      36.0 6.0      12.080227  12.0   5.776229   6.0  \n",
       "                      64.0 8.0      15.923075  16.0   7.912540   8.0  \n",
       "                      72.0 12.0     24.007460  24.0  12.154475  12.2  \n",
       "Nonlinear_4to6 1000.0 6.0  4.0       3.062024   5.0   3.609223   4.0  \n",
       "Norm           1000.0 20.0 20.0     19.785223  20.0  13.699330  14.6  \n",
       "                      50.0 20.0     20.005668  20.0  13.841544  14.0  \n",
       "                           50.0     50.016444  50.0  24.326109  26.2  \n",
       "                      70.0 50.0     49.685605  50.0  24.307200  26.0  \n",
       "Paraboloid     1000.0 12.0 3.0       1.804378   1.2   2.041507   2.0  \n",
       "                      21.0 6.0       1.471528   1.0   2.677824   2.2  \n",
       "                      30.0 9.0       1.304623   1.0   2.898638   2.6  \n",
       "                      39.0 12.0      1.222877   1.0   3.263406   3.0  \n",
       "                      48.0 15.0      1.166538   1.0   3.264442   3.0  \n",
       "Roll           1000.0 3.0  2.0       2.958000   3.0   1.983678   2.0  \n",
       "                      13.0 2.0       2.977422   3.0   1.993772   2.0  \n",
       "Scurve         1000.0 3.0  2.0       2.220897   3.0   1.985736   2.0  \n",
       "                      13.0 2.0       2.179040   3.0   1.926215   2.0  \n",
       "Sphere         1000.0 5.0  3.0       3.967764   4.0   3.006982   3.0  \n",
       "                      10.0 5.0       6.027623   6.0   5.028022   5.0  \n",
       "                      15.0 10.0     11.071274  11.0   9.371253   9.0  \n",
       "                      35.0 30.0     30.969825  31.0  23.095783  23.4  \n",
       "                      55.0 50.0     51.089642  51.0  31.113284  32.4  \n",
       "                      75.0 70.0     70.533346  71.0  38.923859  40.4  \n",
       "Spiral         1000.0 3.0  1.0       2.084984   2.0   0.972060   1.0  \n",
       "                      13.0 1.0       2.098838   2.0   0.992213   1.0  \n",
       "Uniform        1000.0 10.0 5.0       5.010652   5.0   4.776037   4.8  \n",
       "                      15.0 10.0     10.115493  10.0   8.425551   8.6  \n",
       "                      35.0 30.0     29.934330  30.0  19.509309  20.6  \n",
       "                      55.0 50.0     49.359511  50.0  28.217013  30.4  \n",
       "                      75.0 70.0     70.855069  70.0  35.588058  38.2  "
      ]
     },
     "execution_count": 134,
     "metadata": {},
     "output_type": "execute_result"
    }
   ],
   "source": [
    "df.groupby(['Dataset', 'Num', 'Dim', 'RealDim']).mean()"
   ]
  },
  {
   "cell_type": "code",
   "execution_count": null,
   "metadata": {},
   "outputs": [],
   "source": []
  },
  {
   "cell_type": "code",
   "execution_count": 135,
   "metadata": {},
   "outputs": [
    {
     "data": {
      "image/png": "[encoded data removed]",
      "text/plain": [
       "<Figure size 864x576 with 1 Axes>"
      ]
     },
     "metadata": {
      "needs_background": "light"
     },
     "output_type": "display_data"
    }
   ],
   "source": [
    "dfr = df.copy().round()\n",
    "names = dfr.columns.difference(['Dataset', 'Num', 'Dim', 'RealDim'])\n",
    "\n",
    "f, ax = plt.subplots(1, 1, figsize=(12, 8))\n",
    "nsteps = 5001\n",
    "max_tau = 40\n",
    "errors_total = abs(dfr[names].sub(dfr['RealDim'], axis=0).values)\n",
    "errors_total = np.max([errors_total, np.ones_like(errors_total)], axis=0)\n",
    "\n",
    "\n",
    "taus = np.linspace(1, max_tau, nsteps)        \n",
    "rhos = np.zeros((nsteps, len(names)))\n",
    "for cnt, tau in enumerate(taus):\n",
    "    rhos[cnt] = np.sum(errors_total <= tau, axis=0)\n",
    "\n",
    "for i in range(len(names)):\n",
    "    ax.plot(taus, rhos[:,i]/errors_total.shape[0], label=names[i])\n",
    "\n",
    "ax.set_title('Dolan-More Curve')\n",
    "ax.legend()\n",
    "ax.grid()\n",
    "\n",
    "\n"
   ]
  },
  {
   "cell_type": "code",
   "execution_count": 137,
   "metadata": {},
   "outputs": [
    {
     "data": {
      "text/plain": [
       "CD        0.193988\n",
       "DANCo     0.164122\n",
       "ESS       0.384890\n",
       "GeoMLE    0.108177\n",
       "Hein      0.188248\n",
       "MIND      0.248055\n",
       "MLE       0.269471\n",
       "PCA       0.421967\n",
       "dtype: float64"
      ]
     },
     "execution_count": 137,
     "metadata": {},
     "output_type": "execute_result"
    }
   ],
   "source": [
    "abs(dfr[names].sub(dfr['RealDim'], axis=0)).mul(dfr['RealDim']**-1, axis=0).mean(axis=0)"
   ]
  },
  {
   "cell_type": "code",
   "execution_count": 143,
   "metadata": {},
   "outputs": [],
   "source": [
    "df.to_csv('result/result_dm_new.csv', index_label=False)\n"
   ]
  },
  {
   "cell_type": "code",
   "execution_count": null,
   "metadata": {},
   "outputs": [],
   "source": []
  },
  {
   "cell_type": "code",
   "execution_count": 33,
   "metadata": {},
   "outputs": [
    {
     "data": {
      "text/html": [
       "<div>\n",
       "<style scoped>\n",
       "    .dataframe tbody tr th:only-of-type {\n",
       "        vertical-align: middle;\n",
       "    }\n",
       "\n",
       "    .dataframe tbody tr th {\n",
       "        vertical-align: top;\n",
       "    }\n",
       "\n",
       "    .dataframe thead th {\n",
       "        text-align: right;\n",
       "    }\n",
       "</style>\n",
       "<table border=\"1\" class=\"dataframe\">\n",
       "  <thead>\n",
       "    <tr style=\"text-align: right;\">\n",
       "      <th></th>\n",
       "      <th></th>\n",
       "      <th></th>\n",
       "      <th></th>\n",
       "      <th>MLE</th>\n",
       "      <th>GeoMLE</th>\n",
       "      <th>MIND</th>\n",
       "      <th>DANCo</th>\n",
       "      <th>ESS</th>\n",
       "      <th>PCA</th>\n",
       "      <th>CD</th>\n",
       "      <th>Hein</th>\n",
       "    </tr>\n",
       "    <tr>\n",
       "      <th>Dataset</th>\n",
       "      <th>Num</th>\n",
       "      <th>Dim</th>\n",
       "      <th>RealDim</th>\n",
       "      <th></th>\n",
       "      <th></th>\n",
       "      <th></th>\n",
       "      <th></th>\n",
       "      <th></th>\n",
       "      <th></th>\n",
       "      <th></th>\n",
       "      <th></th>\n",
       "    </tr>\n",
       "  </thead>\n",
       "  <tbody>\n",
       "    <tr>\n",
       "      <th rowspan=\"3\" valign=\"top\">Affine</th>\n",
       "      <th rowspan=\"3\" valign=\"top\">1000.0</th>\n",
       "      <th>5.0</th>\n",
       "      <th>5.0</th>\n",
       "      <td>4.436176</td>\n",
       "      <td>5.000000</td>\n",
       "      <td>4.7</td>\n",
       "      <td>5.0</td>\n",
       "      <td>4.961017</td>\n",
       "      <td>5.0</td>\n",
       "      <td>4.737116</td>\n",
       "      <td>4.8</td>\n",
       "    </tr>\n",
       "    <tr>\n",
       "      <th>10.0</th>\n",
       "      <th>10.0</th>\n",
       "      <td>8.092389</td>\n",
       "      <td>10.000000</td>\n",
       "      <td>8.1</td>\n",
       "      <td>9.5</td>\n",
       "      <td>10.020648</td>\n",
       "      <td>10.0</td>\n",
       "      <td>8.609721</td>\n",
       "      <td>8.5</td>\n",
       "    </tr>\n",
       "    <tr>\n",
       "      <th>20.0</th>\n",
       "      <th>20.0</th>\n",
       "      <td>14.110037</td>\n",
       "      <td>19.837311</td>\n",
       "      <td>14.5</td>\n",
       "      <td>19.3</td>\n",
       "      <td>20.012921</td>\n",
       "      <td>20.0</td>\n",
       "      <td>14.791872</td>\n",
       "      <td>15.2</td>\n",
       "    </tr>\n",
       "    <tr>\n",
       "      <th>Affine_3to5</th>\n",
       "      <th>1000.0</th>\n",
       "      <th>5.0</th>\n",
       "      <th>3.0</th>\n",
       "      <td>2.819162</td>\n",
       "      <td>3.125630</td>\n",
       "      <td>3.0</td>\n",
       "      <td>3.0</td>\n",
       "      <td>2.581466</td>\n",
       "      <td>3.0</td>\n",
       "      <td>2.917733</td>\n",
       "      <td>3.0</td>\n",
       "    </tr>\n",
       "    <tr>\n",
       "      <th rowspan=\"3\" valign=\"top\">Cubic</th>\n",
       "      <th rowspan=\"3\" valign=\"top\">1000.0</th>\n",
       "      <th>5.0</th>\n",
       "      <th>3.0</th>\n",
       "      <td>3.069715</td>\n",
       "      <td>3.120422</td>\n",
       "      <td>3.0</td>\n",
       "      <td>3.0</td>\n",
       "      <td>3.953560</td>\n",
       "      <td>4.0</td>\n",
       "      <td>3.058121</td>\n",
       "      <td>3.0</td>\n",
       "    </tr>\n",
       "    <tr>\n",
       "      <th>35.0</th>\n",
       "      <th>30.0</th>\n",
       "      <td>19.548624</td>\n",
       "      <td>30.146128</td>\n",
       "      <td>20.5</td>\n",
       "      <td>30.8</td>\n",
       "      <td>30.946966</td>\n",
       "      <td>31.0</td>\n",
       "      <td>20.579042</td>\n",
       "      <td>21.3</td>\n",
       "    </tr>\n",
       "    <tr>\n",
       "      <th>90.0</th>\n",
       "      <th>70.0</th>\n",
       "      <td>34.217167</td>\n",
       "      <td>73.697099</td>\n",
       "      <td>35.9</td>\n",
       "      <td>73.4</td>\n",
       "      <td>71.543753</td>\n",
       "      <td>71.0</td>\n",
       "      <td>34.738716</td>\n",
       "      <td>37.4</td>\n",
       "    </tr>\n",
       "    <tr>\n",
       "      <th rowspan=\"2\" valign=\"top\">Helicoid</th>\n",
       "      <th rowspan=\"2\" valign=\"top\">1000.0</th>\n",
       "      <th>3.0</th>\n",
       "      <th>2.0</th>\n",
       "      <td>2.086243</td>\n",
       "      <td>2.263129</td>\n",
       "      <td>2.0</td>\n",
       "      <td>2.0</td>\n",
       "      <td>1.839381</td>\n",
       "      <td>2.0</td>\n",
       "      <td>2.031638</td>\n",
       "      <td>2.0</td>\n",
       "    </tr>\n",
       "    <tr>\n",
       "      <th>13.0</th>\n",
       "      <th>2.0</th>\n",
       "      <td>2.079526</td>\n",
       "      <td>2.286545</td>\n",
       "      <td>2.0</td>\n",
       "      <td>2.0</td>\n",
       "      <td>1.833291</td>\n",
       "      <td>2.0</td>\n",
       "      <td>2.033630</td>\n",
       "      <td>2.0</td>\n",
       "    </tr>\n",
       "    <tr>\n",
       "      <th rowspan=\"2\" valign=\"top\">Helix1d</th>\n",
       "      <th rowspan=\"2\" valign=\"top\">1000.0</th>\n",
       "      <th>3.0</th>\n",
       "      <th>1.0</th>\n",
       "      <td>1.002463</td>\n",
       "      <td>1.399572</td>\n",
       "      <td>1.0</td>\n",
       "      <td>1.0</td>\n",
       "      <td>2.641996</td>\n",
       "      <td>3.0</td>\n",
       "      <td>1.024649</td>\n",
       "      <td>1.0</td>\n",
       "    </tr>\n",
       "    <tr>\n",
       "      <th>13.0</th>\n",
       "      <th>1.0</th>\n",
       "      <td>1.002080</td>\n",
       "      <td>1.403783</td>\n",
       "      <td>1.0</td>\n",
       "      <td>1.0</td>\n",
       "      <td>2.613153</td>\n",
       "      <td>3.0</td>\n",
       "      <td>1.006132</td>\n",
       "      <td>1.0</td>\n",
       "    </tr>\n",
       "    <tr>\n",
       "      <th rowspan=\"2\" valign=\"top\">Helix2d</th>\n",
       "      <th rowspan=\"2\" valign=\"top\">1000.0</th>\n",
       "      <th>3.0</th>\n",
       "      <th>2.0</th>\n",
       "      <td>2.741861</td>\n",
       "      <td>2.772936</td>\n",
       "      <td>2.9</td>\n",
       "      <td>3.0</td>\n",
       "      <td>2.550043</td>\n",
       "      <td>3.0</td>\n",
       "      <td>2.017534</td>\n",
       "      <td>2.0</td>\n",
       "    </tr>\n",
       "    <tr>\n",
       "      <th>13.0</th>\n",
       "      <th>2.0</th>\n",
       "      <td>2.743644</td>\n",
       "      <td>2.833216</td>\n",
       "      <td>2.9</td>\n",
       "      <td>3.0</td>\n",
       "      <td>2.547343</td>\n",
       "      <td>3.0</td>\n",
       "      <td>2.022974</td>\n",
       "      <td>2.0</td>\n",
       "    </tr>\n",
       "    <tr>\n",
       "      <th>Moebius</th>\n",
       "      <th>1000.0</th>\n",
       "      <th>3.0</th>\n",
       "      <th>2.0</th>\n",
       "      <td>1.985567</td>\n",
       "      <td>1.271459</td>\n",
       "      <td>2.0</td>\n",
       "      <td>2.0</td>\n",
       "      <td>2.314794</td>\n",
       "      <td>3.0</td>\n",
       "      <td>2.020746</td>\n",
       "      <td>2.0</td>\n",
       "    </tr>\n",
       "    <tr>\n",
       "      <th rowspan=\"4\" valign=\"top\">Nonlinear</th>\n",
       "      <th rowspan=\"4\" valign=\"top\">1000.0</th>\n",
       "      <th>8.0</th>\n",
       "      <th>4.0</th>\n",
       "      <td>4.076561</td>\n",
       "      <td>3.409430</td>\n",
       "      <td>4.0</td>\n",
       "      <td>5.7</td>\n",
       "      <td>7.942824</td>\n",
       "      <td>8.0</td>\n",
       "      <td>3.760750</td>\n",
       "      <td>4.0</td>\n",
       "    </tr>\n",
       "    <tr>\n",
       "      <th>36.0</th>\n",
       "      <th>6.0</th>\n",
       "      <td>6.683937</td>\n",
       "      <td>6.807444</td>\n",
       "      <td>6.0</td>\n",
       "      <td>8.1</td>\n",
       "      <td>11.961104</td>\n",
       "      <td>12.0</td>\n",
       "      <td>5.746971</td>\n",
       "      <td>5.9</td>\n",
       "    </tr>\n",
       "    <tr>\n",
       "      <th>64.0</th>\n",
       "      <th>8.0</th>\n",
       "      <td>9.210539</td>\n",
       "      <td>10.525456</td>\n",
       "      <td>9.0</td>\n",
       "      <td>10.5</td>\n",
       "      <td>16.027877</td>\n",
       "      <td>16.0</td>\n",
       "      <td>7.982724</td>\n",
       "      <td>7.9</td>\n",
       "    </tr>\n",
       "    <tr>\n",
       "      <th>72.0</th>\n",
       "      <th>12.0</th>\n",
       "      <td>13.437732</td>\n",
       "      <td>17.379927</td>\n",
       "      <td>13.6</td>\n",
       "      <td>17.5</td>\n",
       "      <td>23.923810</td>\n",
       "      <td>24.0</td>\n",
       "      <td>12.080877</td>\n",
       "      <td>11.9</td>\n",
       "    </tr>\n",
       "    <tr>\n",
       "      <th>Nonlinear_4to6</th>\n",
       "      <th>1000.0</th>\n",
       "      <th>6.0</th>\n",
       "      <th>4.0</th>\n",
       "      <td>3.825456</td>\n",
       "      <td>4.138118</td>\n",
       "      <td>4.0</td>\n",
       "      <td>5.0</td>\n",
       "      <td>3.144661</td>\n",
       "      <td>5.0</td>\n",
       "      <td>3.678472</td>\n",
       "      <td>4.0</td>\n",
       "    </tr>\n",
       "    <tr>\n",
       "      <th rowspan=\"4\" valign=\"top\">Norm</th>\n",
       "      <th rowspan=\"4\" valign=\"top\">1000.0</th>\n",
       "      <th>20.0</th>\n",
       "      <th>20.0</th>\n",
       "      <td>14.988604</td>\n",
       "      <td>20.000000</td>\n",
       "      <td>15.6</td>\n",
       "      <td>20.0</td>\n",
       "      <td>20.045761</td>\n",
       "      <td>20.0</td>\n",
       "      <td>13.565712</td>\n",
       "      <td>14.4</td>\n",
       "    </tr>\n",
       "    <tr>\n",
       "      <th rowspan=\"2\" valign=\"top\">50.0</th>\n",
       "      <th>20.0</th>\n",
       "      <td>14.989692</td>\n",
       "      <td>22.124816</td>\n",
       "      <td>15.8</td>\n",
       "      <td>21.4</td>\n",
       "      <td>20.271046</td>\n",
       "      <td>20.0</td>\n",
       "      <td>13.780381</td>\n",
       "      <td>14.7</td>\n",
       "    </tr>\n",
       "    <tr>\n",
       "      <th>50.0</th>\n",
       "      <td>27.026298</td>\n",
       "      <td>50.000000</td>\n",
       "      <td>28.6</td>\n",
       "      <td>47.5</td>\n",
       "      <td>49.690825</td>\n",
       "      <td>50.0</td>\n",
       "      <td>24.035341</td>\n",
       "      <td>26.1</td>\n",
       "    </tr>\n",
       "    <tr>\n",
       "      <th>70.0</th>\n",
       "      <th>50.0</th>\n",
       "      <td>27.168977</td>\n",
       "      <td>53.282319</td>\n",
       "      <td>28.7</td>\n",
       "      <td>52.9</td>\n",
       "      <td>49.868543</td>\n",
       "      <td>50.0</td>\n",
       "      <td>24.444687</td>\n",
       "      <td>26.4</td>\n",
       "    </tr>\n",
       "    <tr>\n",
       "      <th rowspan=\"5\" valign=\"top\">Paraboloid</th>\n",
       "      <th rowspan=\"5\" valign=\"top\">1000.0</th>\n",
       "      <th>12.0</th>\n",
       "      <th>3.0</th>\n",
       "      <td>2.830874</td>\n",
       "      <td>2.999793</td>\n",
       "      <td>3.0</td>\n",
       "      <td>3.0</td>\n",
       "      <td>1.786439</td>\n",
       "      <td>1.0</td>\n",
       "      <td>2.196276</td>\n",
       "      <td>2.0</td>\n",
       "    </tr>\n",
       "    <tr>\n",
       "      <th>21.0</th>\n",
       "      <th>6.0</th>\n",
       "      <td>4.707588</td>\n",
       "      <td>6.011846</td>\n",
       "      <td>5.0</td>\n",
       "      <td>6.4</td>\n",
       "      <td>1.472586</td>\n",
       "      <td>1.0</td>\n",
       "      <td>2.561571</td>\n",
       "      <td>2.8</td>\n",
       "    </tr>\n",
       "    <tr>\n",
       "      <th>30.0</th>\n",
       "      <th>9.0</th>\n",
       "      <td>5.882575</td>\n",
       "      <td>9.163055</td>\n",
       "      <td>6.0</td>\n",
       "      <td>8.0</td>\n",
       "      <td>1.308293</td>\n",
       "      <td>1.0</td>\n",
       "      <td>2.766422</td>\n",
       "      <td>2.8</td>\n",
       "    </tr>\n",
       "    <tr>\n",
       "      <th>39.0</th>\n",
       "      <th>12.0</th>\n",
       "      <td>6.611216</td>\n",
       "      <td>12.152166</td>\n",
       "      <td>7.0</td>\n",
       "      <td>8.3</td>\n",
       "      <td>1.223703</td>\n",
       "      <td>1.0</td>\n",
       "      <td>3.025258</td>\n",
       "      <td>3.0</td>\n",
       "    </tr>\n",
       "    <tr>\n",
       "      <th>48.0</th>\n",
       "      <th>15.0</th>\n",
       "      <td>6.974033</td>\n",
       "      <td>13.636721</td>\n",
       "      <td>7.4</td>\n",
       "      <td>8.7</td>\n",
       "      <td>1.161489</td>\n",
       "      <td>1.0</td>\n",
       "      <td>3.327201</td>\n",
       "      <td>3.1</td>\n",
       "    </tr>\n",
       "    <tr>\n",
       "      <th rowspan=\"2\" valign=\"top\">Roll</th>\n",
       "      <th rowspan=\"2\" valign=\"top\">1000.0</th>\n",
       "      <th>3.0</th>\n",
       "      <th>2.0</th>\n",
       "      <td>1.954331</td>\n",
       "      <td>2.275757</td>\n",
       "      <td>2.0</td>\n",
       "      <td>2.0</td>\n",
       "      <td>2.952127</td>\n",
       "      <td>3.0</td>\n",
       "      <td>1.998514</td>\n",
       "      <td>2.0</td>\n",
       "    </tr>\n",
       "    <tr>\n",
       "      <th>13.0</th>\n",
       "      <th>2.0</th>\n",
       "      <td>1.947018</td>\n",
       "      <td>2.317430</td>\n",
       "      <td>2.0</td>\n",
       "      <td>2.0</td>\n",
       "      <td>2.974154</td>\n",
       "      <td>3.0</td>\n",
       "      <td>2.030448</td>\n",
       "      <td>2.0</td>\n",
       "    </tr>\n",
       "    <tr>\n",
       "      <th rowspan=\"2\" valign=\"top\">Scurve</th>\n",
       "      <th rowspan=\"2\" valign=\"top\">1000.0</th>\n",
       "      <th>3.0</th>\n",
       "      <th>2.0</th>\n",
       "      <td>1.946351</td>\n",
       "      <td>2.037241</td>\n",
       "      <td>2.0</td>\n",
       "      <td>2.0</td>\n",
       "      <td>2.182087</td>\n",
       "      <td>3.0</td>\n",
       "      <td>1.939938</td>\n",
       "      <td>2.0</td>\n",
       "    </tr>\n",
       "    <tr>\n",
       "      <th>13.0</th>\n",
       "      <th>2.0</th>\n",
       "      <td>1.948070</td>\n",
       "      <td>2.048969</td>\n",
       "      <td>2.0</td>\n",
       "      <td>2.0</td>\n",
       "      <td>2.221056</td>\n",
       "      <td>3.0</td>\n",
       "      <td>2.013642</td>\n",
       "      <td>2.0</td>\n",
       "    </tr>\n",
       "    <tr>\n",
       "      <th rowspan=\"6\" valign=\"top\">Sphere</th>\n",
       "      <th rowspan=\"6\" valign=\"top\">1000.0</th>\n",
       "      <th>5.0</th>\n",
       "      <th>3.0</th>\n",
       "      <td>2.980354</td>\n",
       "      <td>3.082889</td>\n",
       "      <td>3.0</td>\n",
       "      <td>3.0</td>\n",
       "      <td>4.000285</td>\n",
       "      <td>4.0</td>\n",
       "      <td>3.028610</td>\n",
       "      <td>3.0</td>\n",
       "    </tr>\n",
       "    <tr>\n",
       "      <th>10.0</th>\n",
       "      <th>5.0</th>\n",
       "      <td>4.814091</td>\n",
       "      <td>5.070053</td>\n",
       "      <td>5.0</td>\n",
       "      <td>6.0</td>\n",
       "      <td>6.000145</td>\n",
       "      <td>6.0</td>\n",
       "      <td>5.016087</td>\n",
       "      <td>5.0</td>\n",
       "    </tr>\n",
       "    <tr>\n",
       "      <th>15.0</th>\n",
       "      <th>10.0</th>\n",
       "      <td>8.834389</td>\n",
       "      <td>9.977898</td>\n",
       "      <td>9.0</td>\n",
       "      <td>11.2</td>\n",
       "      <td>10.972066</td>\n",
       "      <td>11.0</td>\n",
       "      <td>9.149028</td>\n",
       "      <td>9.2</td>\n",
       "    </tr>\n",
       "    <tr>\n",
       "      <th>35.0</th>\n",
       "      <th>30.0</th>\n",
       "      <td>20.290503</td>\n",
       "      <td>32.557897</td>\n",
       "      <td>20.9</td>\n",
       "      <td>30.4</td>\n",
       "      <td>30.984633</td>\n",
       "      <td>31.0</td>\n",
       "      <td>22.246151</td>\n",
       "      <td>22.6</td>\n",
       "    </tr>\n",
       "    <tr>\n",
       "      <th>55.0</th>\n",
       "      <th>50.0</th>\n",
       "      <td>28.893689</td>\n",
       "      <td>52.645787</td>\n",
       "      <td>30.2</td>\n",
       "      <td>50.6</td>\n",
       "      <td>50.631222</td>\n",
       "      <td>51.0</td>\n",
       "      <td>32.016338</td>\n",
       "      <td>34.0</td>\n",
       "    </tr>\n",
       "    <tr>\n",
       "      <th>75.0</th>\n",
       "      <th>70.0</th>\n",
       "      <td>35.904561</td>\n",
       "      <td>71.800092</td>\n",
       "      <td>37.7</td>\n",
       "      <td>69.9</td>\n",
       "      <td>71.151596</td>\n",
       "      <td>71.0</td>\n",
       "      <td>39.312578</td>\n",
       "      <td>41.2</td>\n",
       "    </tr>\n",
       "    <tr>\n",
       "      <th rowspan=\"2\" valign=\"top\">Spiral</th>\n",
       "      <th rowspan=\"2\" valign=\"top\">1000.0</th>\n",
       "      <th>3.0</th>\n",
       "      <th>1.0</th>\n",
       "      <td>1.761830</td>\n",
       "      <td>1.522823</td>\n",
       "      <td>1.0</td>\n",
       "      <td>1.0</td>\n",
       "      <td>2.094092</td>\n",
       "      <td>2.0</td>\n",
       "      <td>0.963084</td>\n",
       "      <td>1.0</td>\n",
       "    </tr>\n",
       "    <tr>\n",
       "      <th>13.0</th>\n",
       "      <th>1.0</th>\n",
       "      <td>1.766377</td>\n",
       "      <td>1.526826</td>\n",
       "      <td>1.0</td>\n",
       "      <td>1.0</td>\n",
       "      <td>2.097328</td>\n",
       "      <td>2.0</td>\n",
       "      <td>1.013120</td>\n",
       "      <td>1.0</td>\n",
       "    </tr>\n",
       "    <tr>\n",
       "      <th rowspan=\"5\" valign=\"top\">Uniform</th>\n",
       "      <th rowspan=\"5\" valign=\"top\">1000.0</th>\n",
       "      <th>10.0</th>\n",
       "      <th>5.0</th>\n",
       "      <td>4.453239</td>\n",
       "      <td>4.721269</td>\n",
       "      <td>4.8</td>\n",
       "      <td>5.0</td>\n",
       "      <td>4.966521</td>\n",
       "      <td>5.0</td>\n",
       "      <td>4.687491</td>\n",
       "      <td>5.0</td>\n",
       "    </tr>\n",
       "    <tr>\n",
       "      <th>15.0</th>\n",
       "      <th>10.0</th>\n",
       "      <td>8.081392</td>\n",
       "      <td>9.156182</td>\n",
       "      <td>8.1</td>\n",
       "      <td>9.8</td>\n",
       "      <td>9.872748</td>\n",
       "      <td>10.0</td>\n",
       "      <td>8.554030</td>\n",
       "      <td>8.6</td>\n",
       "    </tr>\n",
       "    <tr>\n",
       "      <th>35.0</th>\n",
       "      <th>30.0</th>\n",
       "      <td>19.048783</td>\n",
       "      <td>29.433654</td>\n",
       "      <td>19.9</td>\n",
       "      <td>30.1</td>\n",
       "      <td>29.824383</td>\n",
       "      <td>30.0</td>\n",
       "      <td>19.724822</td>\n",
       "      <td>20.3</td>\n",
       "    </tr>\n",
       "    <tr>\n",
       "      <th>55.0</th>\n",
       "      <th>50.0</th>\n",
       "      <td>27.195976</td>\n",
       "      <td>51.231300</td>\n",
       "      <td>28.7</td>\n",
       "      <td>50.9</td>\n",
       "      <td>49.812635</td>\n",
       "      <td>50.0</td>\n",
       "      <td>27.944971</td>\n",
       "      <td>29.6</td>\n",
       "    </tr>\n",
       "    <tr>\n",
       "      <th>75.0</th>\n",
       "      <th>70.0</th>\n",
       "      <td>33.930374</td>\n",
       "      <td>72.475144</td>\n",
       "      <td>35.9</td>\n",
       "      <td>70.9</td>\n",
       "      <td>70.671178</td>\n",
       "      <td>70.0</td>\n",
       "      <td>34.762951</td>\n",
       "      <td>37.0</td>\n",
       "    </tr>\n",
       "  </tbody>\n",
       "</table>\n",
       "</div>"
      ],
      "text/plain": [
       "                                          MLE     GeoMLE  MIND  DANCo  \\\n",
       "Dataset        Num    Dim  RealDim                                      \n",
       "Affine         1000.0 5.0  5.0       4.436176   5.000000   4.7    5.0   \n",
       "                      10.0 10.0      8.092389  10.000000   8.1    9.5   \n",
       "                      20.0 20.0     14.110037  19.837311  14.5   19.3   \n",
       "Affine_3to5    1000.0 5.0  3.0       2.819162   3.125630   3.0    3.0   \n",
       "Cubic          1000.0 5.0  3.0       3.069715   3.120422   3.0    3.0   \n",
       "                      35.0 30.0     19.548624  30.146128  20.5   30.8   \n",
       "                      90.0 70.0     34.217167  73.697099  35.9   73.4   \n",
       "Helicoid       1000.0 3.0  2.0       2.086243   2.263129   2.0    2.0   \n",
       "                      13.0 2.0       2.079526   2.286545   2.0    2.0   \n",
       "Helix1d        1000.0 3.0  1.0       1.002463   1.399572   1.0    1.0   \n",
       "                      13.0 1.0       1.002080   1.403783   1.0    1.0   \n",
       "Helix2d        1000.0 3.0  2.0       2.741861   2.772936   2.9    3.0   \n",
       "                      13.0 2.0       2.743644   2.833216   2.9    3.0   \n",
       "Moebius        1000.0 3.0  2.0       1.985567   1.271459   2.0    2.0   \n",
       "Nonlinear      1000.0 8.0  4.0       4.076561   3.409430   4.0    5.7   \n",
       "                      36.0 6.0       6.683937   6.807444   6.0    8.1   \n",
       "                      64.0 8.0       9.210539  10.525456   9.0   10.5   \n",
       "                      72.0 12.0     13.437732  17.379927  13.6   17.5   \n",
       "Nonlinear_4to6 1000.0 6.0  4.0       3.825456   4.138118   4.0    5.0   \n",
       "Norm           1000.0 20.0 20.0     14.988604  20.000000  15.6   20.0   \n",
       "                      50.0 20.0     14.989692  22.124816  15.8   21.4   \n",
       "                           50.0     27.026298  50.000000  28.6   47.5   \n",
       "                      70.0 50.0     27.168977  53.282319  28.7   52.9   \n",
       "Paraboloid     1000.0 12.0 3.0       2.830874   2.999793   3.0    3.0   \n",
       "                      21.0 6.0       4.707588   6.011846   5.0    6.4   \n",
       "                      30.0 9.0       5.882575   9.163055   6.0    8.0   \n",
       "                      39.0 12.0      6.611216  12.152166   7.0    8.3   \n",
       "                      48.0 15.0      6.974033  13.636721   7.4    8.7   \n",
       "Roll           1000.0 3.0  2.0       1.954331   2.275757   2.0    2.0   \n",
       "                      13.0 2.0       1.947018   2.317430   2.0    2.0   \n",
       "Scurve         1000.0 3.0  2.0       1.946351   2.037241   2.0    2.0   \n",
       "                      13.0 2.0       1.948070   2.048969   2.0    2.0   \n",
       "Sphere         1000.0 5.0  3.0       2.980354   3.082889   3.0    3.0   \n",
       "                      10.0 5.0       4.814091   5.070053   5.0    6.0   \n",
       "                      15.0 10.0      8.834389   9.977898   9.0   11.2   \n",
       "                      35.0 30.0     20.290503  32.557897  20.9   30.4   \n",
       "                      55.0 50.0     28.893689  52.645787  30.2   50.6   \n",
       "                      75.0 70.0     35.904561  71.800092  37.7   69.9   \n",
       "Spiral         1000.0 3.0  1.0       1.761830   1.522823   1.0    1.0   \n",
       "                      13.0 1.0       1.766377   1.526826   1.0    1.0   \n",
       "Uniform        1000.0 10.0 5.0       4.453239   4.721269   4.8    5.0   \n",
       "                      15.0 10.0      8.081392   9.156182   8.1    9.8   \n",
       "                      35.0 30.0     19.048783  29.433654  19.9   30.1   \n",
       "                      55.0 50.0     27.195976  51.231300  28.7   50.9   \n",
       "                      75.0 70.0     33.930374  72.475144  35.9   70.9   \n",
       "\n",
       "                                          ESS   PCA         CD  Hein  \n",
       "Dataset        Num    Dim  RealDim                                    \n",
       "Affine         1000.0 5.0  5.0       4.961017   5.0   4.737116   4.8  \n",
       "                      10.0 10.0     10.020648  10.0   8.609721   8.5  \n",
       "                      20.0 20.0     20.012921  20.0  14.791872  15.2  \n",
       "Affine_3to5    1000.0 5.0  3.0       2.581466   3.0   2.917733   3.0  \n",
       "Cubic          1000.0 5.0  3.0       3.953560   4.0   3.058121   3.0  \n",
       "                      35.0 30.0     30.946966  31.0  20.579042  21.3  \n",
       "                      90.0 70.0     71.543753  71.0  34.738716  37.4  \n",
       "Helicoid       1000.0 3.0  2.0       1.839381   2.0   2.031638   2.0  \n",
       "                      13.0 2.0       1.833291   2.0   2.033630   2.0  \n",
       "Helix1d        1000.0 3.0  1.0       2.641996   3.0   1.024649   1.0  \n",
       "                      13.0 1.0       2.613153   3.0   1.006132   1.0  \n",
       "Helix2d        1000.0 3.0  2.0       2.550043   3.0   2.017534   2.0  \n",
       "                      13.0 2.0       2.547343   3.0   2.022974   2.0  \n",
       "Moebius        1000.0 3.0  2.0       2.314794   3.0   2.020746   2.0  \n",
       "Nonlinear      1000.0 8.0  4.0       7.942824   8.0   3.760750   4.0  \n",
       "                      36.0 6.0      11.961104  12.0   5.746971   5.9  \n",
       "                      64.0 8.0      16.027877  16.0   7.982724   7.9  \n",
       "                      72.0 12.0     23.923810  24.0  12.080877  11.9  \n",
       "Nonlinear_4to6 1000.0 6.0  4.0       3.144661   5.0   3.678472   4.0  \n",
       "Norm           1000.0 20.0 20.0     20.045761  20.0  13.565712  14.4  \n",
       "                      50.0 20.0     20.271046  20.0  13.780381  14.7  \n",
       "                           50.0     49.690825  50.0  24.035341  26.1  \n",
       "                      70.0 50.0     49.868543  50.0  24.444687  26.4  \n",
       "Paraboloid     1000.0 12.0 3.0       1.786439   1.0   2.196276   2.0  \n",
       "                      21.0 6.0       1.472586   1.0   2.561571   2.8  \n",
       "                      30.0 9.0       1.308293   1.0   2.766422   2.8  \n",
       "                      39.0 12.0      1.223703   1.0   3.025258   3.0  \n",
       "                      48.0 15.0      1.161489   1.0   3.327201   3.1  \n",
       "Roll           1000.0 3.0  2.0       2.952127   3.0   1.998514   2.0  \n",
       "                      13.0 2.0       2.974154   3.0   2.030448   2.0  \n",
       "Scurve         1000.0 3.0  2.0       2.182087   3.0   1.939938   2.0  \n",
       "                      13.0 2.0       2.221056   3.0   2.013642   2.0  \n",
       "Sphere         1000.0 5.0  3.0       4.000285   4.0   3.028610   3.0  \n",
       "                      10.0 5.0       6.000145   6.0   5.016087   5.0  \n",
       "                      15.0 10.0     10.972066  11.0   9.149028   9.2  \n",
       "                      35.0 30.0     30.984633  31.0  22.246151  22.6  \n",
       "                      55.0 50.0     50.631222  51.0  32.016338  34.0  \n",
       "                      75.0 70.0     71.151596  71.0  39.312578  41.2  \n",
       "Spiral         1000.0 3.0  1.0       2.094092   2.0   0.963084   1.0  \n",
       "                      13.0 1.0       2.097328   2.0   1.013120   1.0  \n",
       "Uniform        1000.0 10.0 5.0       4.966521   5.0   4.687491   5.0  \n",
       "                      15.0 10.0      9.872748  10.0   8.554030   8.6  \n",
       "                      35.0 30.0     29.824383  30.0  19.724822  20.3  \n",
       "                      55.0 50.0     49.812635  50.0  27.944971  29.6  \n",
       "                      75.0 70.0     70.671178  70.0  34.762951  37.0  "
      ]
     },
     "execution_count": 33,
     "metadata": {},
     "output_type": "execute_result"
    }
   ],
   "source": [
    "df.groupby(['Dataset', 'Num', 'Dim', 'RealDim']).mean()"
   ]
  },
  {
   "cell_type": "code",
   "execution_count": 34,
   "metadata": {},
   "outputs": [
    {
     "data": {
      "image/png": "[encoded data removed]",
      "text/plain": [
       "<Figure size 864x576 with 1 Axes>"
      ]
     },
     "metadata": {
      "needs_background": "light"
     },
     "output_type": "display_data"
    }
   ],
   "source": [
    "dfr = df.copy().round()\n",
    "names = dfr.columns.difference(['Dataset', 'Num', 'Dim', 'RealDim'])\n",
    "\n",
    "f, ax = plt.subplots(1, 1, figsize=(12, 8))\n",
    "nsteps = 5001\n",
    "max_tau = 40\n",
    "errors_total = abs(dfr[names].sub(dfr['RealDim'], axis=0).values)\n",
    "errors_total = np.max([errors_total, np.ones_like(errors_total)], axis=0)\n",
    "\n",
    "\n",
    "taus = np.linspace(1, max_tau, nsteps)        \n",
    "rhos = np.zeros((nsteps, len(names)))\n",
    "for cnt, tau in enumerate(taus):\n",
    "    rhos[cnt] = np.sum(errors_total <= tau, axis=0)\n",
    "\n",
    "for i in range(len(names)):\n",
    "    ax.plot(taus, rhos[:,i]/errors_total.shape[0], label=names[i])\n",
    "\n",
    "ax.set_title('Dolan-More Curve')\n",
    "ax.legend()\n",
    "ax.grid()\n",
    "\n"
   ]
  },
  {
   "cell_type": "code",
   "execution_count": 35,
   "metadata": {},
   "outputs": [],
   "source": [
    "df.to_csv('result/result_dm.csv', index_label=False)"
   ]
  },
  {
   "cell_type": "markdown",
   "metadata": {},
   "source": [
    "### Nonunform samplings"
   ]
  },
  {
   "cell_type": "code",
   "execution_count": 32,
   "metadata": {},
   "outputs": [],
   "source": [
    "DE = DimEst()\n",
    "DG = DataGenerator()"
   ]
  },
  {
   "cell_type": "code",
   "execution_count": 33,
   "metadata": {},
   "outputs": [
    {
     "data": {
      "text/plain": [
       "dict_keys(['Helix1d', 'Helix2d', 'Helicoid', 'Spiral', 'Roll', 'Scurve', 'Star', 'Moebius', 'Sphere', 'Norm', 'Uniform', 'Cubic', 'Affine_3to5', 'Affine', 'Nonlinear_4to6', 'Nonlinear', 'Paraboloid'])"
      ]
     },
     "execution_count": 33,
     "metadata": {},
     "output_type": "execute_result"
    }
   ],
   "source": [
    "DG.dict_gen.keys()"
   ]
  },
  {
   "cell_type": "code",
   "execution_count": 34,
   "metadata": {},
   "outputs": [],
   "source": [
    "steps = [\n",
    "    ('Sphere',  5,  3),\n",
    "    ('Sphere',  10, 5),\n",
    "    ('Sphere',  15, 10),\n",
    "    ('Sphere',  35, 30),\n",
    "    ('Sphere',  55, 50),\n",
    "    ('Sphere',  75, 70),\n",
    "    \n",
    "    ('Affine_3to5',  5,  3),\n",
    "    ('Affine',       5,  5),\n",
    "    ('Affine',       10, 10),\n",
    "    ('Affine',       20, 20),\n",
    "    \n",
    "    ('Nonlinear_4to6',  6,  4),\n",
    "    ('Nonlinear',       8,  4),\n",
    "    ('Nonlinear',       36, 6),\n",
    "    ('Nonlinear',       64, 8),\n",
    "    ('Nonlinear',       72, 12),\n",
    "    \n",
    "    ('Spiral',   3,  1),\n",
    "    ('Spiral',   13, 1),\n",
    "    ('Helix1d',  3,  1),\n",
    "    ('Helix1d',  13, 1),\n",
    "    ('Helix2d',  3,  2),\n",
    "    ('Helix2d',  13, 2),\n",
    "    ('Helicoid', 3,  2),\n",
    "    ('Helicoid', 13, 2),\n",
    "    ('Roll',     3,  2),\n",
    "    ('Roll',     13, 2),\n",
    "    ('Scurve',   3,  2),\n",
    "    ('Scurve',   13, 2),\n",
    "    ('Moebius',  3,  2),\n",
    "    \n",
    "    ('Norm', 10, 5),\n",
    "    ('Norm', 15, 10),\n",
    "    ('Norm', 35, 30),\n",
    "    ('Norm', 55, 50),\n",
    "    ('Norm', 75, 70),\n",
    "     \n",
    "#     ('Norm', 20, 20),\n",
    "#     ('Norm', 50, 20),\n",
    "#     ('Norm', 50, 50),\n",
    "#     ('Norm', 70, 50),\n",
    "    \n",
    "    ('Paraboloid', 12, 3),\n",
    "    ('Paraboloid', 21, 6),\n",
    "    ('Paraboloid', 30, 9),\n",
    "    ('Paraboloid', 39, 12),\n",
    "    ('Paraboloid', 48, 15),\n",
    "    \n",
    "#     ('Cubic', 5,  3),\n",
    "#     ('Cubic', 35, 30),\n",
    "#     ('Cubic', 90, 70),\n",
    "]"
   ]
  },
  {
   "cell_type": "code",
   "execution_count": 35,
   "metadata": {},
   "outputs": [],
   "source": [
    "def add_args(const_args, step):\n",
    "    args = {**const_args}\n",
    "    args['name'] = step[0]\n",
    "    args['D'] = step[1]\n",
    "    args['d'] = step[2]\n",
    "    assert len({'name', 'D', 'd', 'N', 'noise'} & set(args.keys())) == 5\n",
    "    return args"
   ]
  },
  {
   "cell_type": "code",
   "execution_count": 37,
   "metadata": {},
   "outputs": [
    {
     "name": "stderr",
     "output_type": "stream",
     "text": [
      "100%|██████████| 380/380 [06:53<00:00,  1.26it/s]\n"
     ]
    }
   ],
   "source": [
    "n_repetition = 10\n",
    "args = {'N': 1000, 'noise': 0, 'type_sample': 'nonuniform'}\n",
    "df, df_time = run_test(run_one_test, steps, args, n_repetition)"
   ]
  },
  {
   "cell_type": "code",
   "execution_count": 38,
   "metadata": {},
   "outputs": [
    {
     "data": {
      "text/html": [
       "<div>\n",
       "<style scoped>\n",
       "    .dataframe tbody tr th:only-of-type {\n",
       "        vertical-align: middle;\n",
       "    }\n",
       "\n",
       "    .dataframe tbody tr th {\n",
       "        vertical-align: top;\n",
       "    }\n",
       "\n",
       "    .dataframe thead th {\n",
       "        text-align: right;\n",
       "    }\n",
       "</style>\n",
       "<table border=\"1\" class=\"dataframe\">\n",
       "  <thead>\n",
       "    <tr style=\"text-align: right;\">\n",
       "      <th></th>\n",
       "      <th></th>\n",
       "      <th></th>\n",
       "      <th></th>\n",
       "      <th>MLE</th>\n",
       "      <th>GeoMLE</th>\n",
       "      <th>MIND</th>\n",
       "      <th>DANCo</th>\n",
       "      <th>ESS</th>\n",
       "      <th>PCA</th>\n",
       "      <th>CD</th>\n",
       "      <th>Hein</th>\n",
       "    </tr>\n",
       "    <tr>\n",
       "      <th>Dataset</th>\n",
       "      <th>Num</th>\n",
       "      <th>Dim</th>\n",
       "      <th>RealDim</th>\n",
       "      <th></th>\n",
       "      <th></th>\n",
       "      <th></th>\n",
       "      <th></th>\n",
       "      <th></th>\n",
       "      <th></th>\n",
       "      <th></th>\n",
       "      <th></th>\n",
       "    </tr>\n",
       "  </thead>\n",
       "  <tbody>\n",
       "    <tr>\n",
       "      <th rowspan=\"3\" valign=\"top\">Affine</th>\n",
       "      <th rowspan=\"3\" valign=\"top\">1000.0</th>\n",
       "      <th>5.0</th>\n",
       "      <th>5.0</th>\n",
       "      <td>5.020814</td>\n",
       "      <td>4.998816</td>\n",
       "      <td>5.0</td>\n",
       "      <td>5.0</td>\n",
       "      <td>4.968821</td>\n",
       "      <td>5.0</td>\n",
       "      <td>4.813513</td>\n",
       "      <td>5.0</td>\n",
       "    </tr>\n",
       "    <tr>\n",
       "      <th>10.0</th>\n",
       "      <th>10.0</th>\n",
       "      <td>8.990513</td>\n",
       "      <td>10.000000</td>\n",
       "      <td>9.0</td>\n",
       "      <td>10.0</td>\n",
       "      <td>10.046645</td>\n",
       "      <td>10.0</td>\n",
       "      <td>8.437193</td>\n",
       "      <td>8.8</td>\n",
       "    </tr>\n",
       "    <tr>\n",
       "      <th>20.0</th>\n",
       "      <th>20.0</th>\n",
       "      <td>15.107916</td>\n",
       "      <td>20.000000</td>\n",
       "      <td>15.9</td>\n",
       "      <td>19.9</td>\n",
       "      <td>19.893082</td>\n",
       "      <td>20.0</td>\n",
       "      <td>13.587803</td>\n",
       "      <td>14.4</td>\n",
       "    </tr>\n",
       "    <tr>\n",
       "      <th>Affine_3to5</th>\n",
       "      <th>1000.0</th>\n",
       "      <th>5.0</th>\n",
       "      <th>3.0</th>\n",
       "      <td>3.063209</td>\n",
       "      <td>3.037318</td>\n",
       "      <td>3.0</td>\n",
       "      <td>3.1</td>\n",
       "      <td>2.622393</td>\n",
       "      <td>3.0</td>\n",
       "      <td>2.985264</td>\n",
       "      <td>3.0</td>\n",
       "    </tr>\n",
       "    <tr>\n",
       "      <th rowspan=\"2\" valign=\"top\">Helicoid</th>\n",
       "      <th rowspan=\"2\" valign=\"top\">1000.0</th>\n",
       "      <th>3.0</th>\n",
       "      <th>2.0</th>\n",
       "      <td>2.099377</td>\n",
       "      <td>2.022600</td>\n",
       "      <td>2.0</td>\n",
       "      <td>2.0</td>\n",
       "      <td>2.595938</td>\n",
       "      <td>3.0</td>\n",
       "      <td>2.028393</td>\n",
       "      <td>2.0</td>\n",
       "    </tr>\n",
       "    <tr>\n",
       "      <th>13.0</th>\n",
       "      <th>2.0</th>\n",
       "      <td>2.096877</td>\n",
       "      <td>2.018808</td>\n",
       "      <td>2.0</td>\n",
       "      <td>2.0</td>\n",
       "      <td>2.591167</td>\n",
       "      <td>3.0</td>\n",
       "      <td>2.015797</td>\n",
       "      <td>2.0</td>\n",
       "    </tr>\n",
       "    <tr>\n",
       "      <th rowspan=\"2\" valign=\"top\">Helix1d</th>\n",
       "      <th rowspan=\"2\" valign=\"top\">1000.0</th>\n",
       "      <th>3.0</th>\n",
       "      <th>1.0</th>\n",
       "      <td>1.069185</td>\n",
       "      <td>0.936972</td>\n",
       "      <td>1.0</td>\n",
       "      <td>1.0</td>\n",
       "      <td>2.878401</td>\n",
       "      <td>3.0</td>\n",
       "      <td>0.959202</td>\n",
       "      <td>1.0</td>\n",
       "    </tr>\n",
       "    <tr>\n",
       "      <th>13.0</th>\n",
       "      <th>1.0</th>\n",
       "      <td>1.045382</td>\n",
       "      <td>0.584697</td>\n",
       "      <td>1.0</td>\n",
       "      <td>1.0</td>\n",
       "      <td>2.857758</td>\n",
       "      <td>3.0</td>\n",
       "      <td>0.975039</td>\n",
       "      <td>1.0</td>\n",
       "    </tr>\n",
       "    <tr>\n",
       "      <th rowspan=\"2\" valign=\"top\">Helix2d</th>\n",
       "      <th rowspan=\"2\" valign=\"top\">1000.0</th>\n",
       "      <th>3.0</th>\n",
       "      <th>2.0</th>\n",
       "      <td>2.471712</td>\n",
       "      <td>1.549056</td>\n",
       "      <td>2.0</td>\n",
       "      <td>2.1</td>\n",
       "      <td>2.093870</td>\n",
       "      <td>2.0</td>\n",
       "      <td>2.015928</td>\n",
       "      <td>2.0</td>\n",
       "    </tr>\n",
       "    <tr>\n",
       "      <th>13.0</th>\n",
       "      <th>2.0</th>\n",
       "      <td>2.472843</td>\n",
       "      <td>1.806733</td>\n",
       "      <td>2.0</td>\n",
       "      <td>2.0</td>\n",
       "      <td>2.112224</td>\n",
       "      <td>2.0</td>\n",
       "      <td>1.964734</td>\n",
       "      <td>2.0</td>\n",
       "    </tr>\n",
       "    <tr>\n",
       "      <th>Moebius</th>\n",
       "      <th>1000.0</th>\n",
       "      <th>3.0</th>\n",
       "      <th>2.0</th>\n",
       "      <td>2.062018</td>\n",
       "      <td>2.022438</td>\n",
       "      <td>2.0</td>\n",
       "      <td>2.0</td>\n",
       "      <td>1.805454</td>\n",
       "      <td>2.0</td>\n",
       "      <td>1.988716</td>\n",
       "      <td>2.0</td>\n",
       "    </tr>\n",
       "    <tr>\n",
       "      <th rowspan=\"4\" valign=\"top\">Nonlinear</th>\n",
       "      <th rowspan=\"4\" valign=\"top\">1000.0</th>\n",
       "      <th>8.0</th>\n",
       "      <th>4.0</th>\n",
       "      <td>4.081218</td>\n",
       "      <td>3.993467</td>\n",
       "      <td>4.0</td>\n",
       "      <td>5.0</td>\n",
       "      <td>5.195866</td>\n",
       "      <td>8.0</td>\n",
       "      <td>3.870462</td>\n",
       "      <td>4.0</td>\n",
       "    </tr>\n",
       "    <tr>\n",
       "      <th>36.0</th>\n",
       "      <th>6.0</th>\n",
       "      <td>5.998835</td>\n",
       "      <td>6.423197</td>\n",
       "      <td>6.0</td>\n",
       "      <td>7.1</td>\n",
       "      <td>7.779084</td>\n",
       "      <td>12.0</td>\n",
       "      <td>5.654124</td>\n",
       "      <td>5.9</td>\n",
       "    </tr>\n",
       "    <tr>\n",
       "      <th>64.0</th>\n",
       "      <th>8.0</th>\n",
       "      <td>7.792259</td>\n",
       "      <td>8.730836</td>\n",
       "      <td>8.0</td>\n",
       "      <td>9.0</td>\n",
       "      <td>10.451486</td>\n",
       "      <td>16.0</td>\n",
       "      <td>7.233379</td>\n",
       "      <td>7.6</td>\n",
       "    </tr>\n",
       "    <tr>\n",
       "      <th>72.0</th>\n",
       "      <th>12.0</th>\n",
       "      <td>10.855378</td>\n",
       "      <td>13.433242</td>\n",
       "      <td>11.0</td>\n",
       "      <td>13.2</td>\n",
       "      <td>15.576719</td>\n",
       "      <td>24.0</td>\n",
       "      <td>9.823021</td>\n",
       "      <td>10.2</td>\n",
       "    </tr>\n",
       "    <tr>\n",
       "      <th>Nonlinear_4to6</th>\n",
       "      <th>1000.0</th>\n",
       "      <th>6.0</th>\n",
       "      <th>4.0</th>\n",
       "      <td>3.926262</td>\n",
       "      <td>4.070970</td>\n",
       "      <td>4.0</td>\n",
       "      <td>5.0</td>\n",
       "      <td>2.959484</td>\n",
       "      <td>4.0</td>\n",
       "      <td>3.757939</td>\n",
       "      <td>4.0</td>\n",
       "    </tr>\n",
       "    <tr>\n",
       "      <th rowspan=\"5\" valign=\"top\">Norm</th>\n",
       "      <th rowspan=\"5\" valign=\"top\">1000.0</th>\n",
       "      <th>10.0</th>\n",
       "      <th>5.0</th>\n",
       "      <td>4.990759</td>\n",
       "      <td>5.396950</td>\n",
       "      <td>5.0</td>\n",
       "      <td>6.0</td>\n",
       "      <td>4.958178</td>\n",
       "      <td>5.0</td>\n",
       "      <td>4.717071</td>\n",
       "      <td>4.9</td>\n",
       "    </tr>\n",
       "    <tr>\n",
       "      <th>15.0</th>\n",
       "      <th>10.0</th>\n",
       "      <td>9.023456</td>\n",
       "      <td>10.704392</td>\n",
       "      <td>9.1</td>\n",
       "      <td>10.3</td>\n",
       "      <td>9.898405</td>\n",
       "      <td>10.0</td>\n",
       "      <td>8.358798</td>\n",
       "      <td>8.9</td>\n",
       "    </tr>\n",
       "    <tr>\n",
       "      <th>35.0</th>\n",
       "      <th>30.0</th>\n",
       "      <td>19.672006</td>\n",
       "      <td>32.112742</td>\n",
       "      <td>20.6</td>\n",
       "      <td>31.4</td>\n",
       "      <td>29.963357</td>\n",
       "      <td>30.0</td>\n",
       "      <td>17.885251</td>\n",
       "      <td>19.2</td>\n",
       "    </tr>\n",
       "    <tr>\n",
       "      <th>55.0</th>\n",
       "      <th>50.0</th>\n",
       "      <td>27.073239</td>\n",
       "      <td>51.709286</td>\n",
       "      <td>28.4</td>\n",
       "      <td>50.7</td>\n",
       "      <td>49.714747</td>\n",
       "      <td>50.0</td>\n",
       "      <td>24.072621</td>\n",
       "      <td>25.9</td>\n",
       "    </tr>\n",
       "    <tr>\n",
       "      <th>75.0</th>\n",
       "      <th>70.0</th>\n",
       "      <td>33.057989</td>\n",
       "      <td>72.317066</td>\n",
       "      <td>35.1</td>\n",
       "      <td>68.2</td>\n",
       "      <td>69.729688</td>\n",
       "      <td>70.0</td>\n",
       "      <td>29.217024</td>\n",
       "      <td>31.9</td>\n",
       "    </tr>\n",
       "    <tr>\n",
       "      <th rowspan=\"5\" valign=\"top\">Paraboloid</th>\n",
       "      <th rowspan=\"5\" valign=\"top\">1000.0</th>\n",
       "      <th>12.0</th>\n",
       "      <th>3.0</th>\n",
       "      <td>2.832962</td>\n",
       "      <td>2.941758</td>\n",
       "      <td>3.0</td>\n",
       "      <td>3.0</td>\n",
       "      <td>1.785243</td>\n",
       "      <td>1.0</td>\n",
       "      <td>2.176015</td>\n",
       "      <td>2.0</td>\n",
       "    </tr>\n",
       "    <tr>\n",
       "      <th>21.0</th>\n",
       "      <th>6.0</th>\n",
       "      <td>4.729833</td>\n",
       "      <td>5.812629</td>\n",
       "      <td>5.0</td>\n",
       "      <td>6.6</td>\n",
       "      <td>1.473727</td>\n",
       "      <td>1.0</td>\n",
       "      <td>2.608070</td>\n",
       "      <td>2.6</td>\n",
       "    </tr>\n",
       "    <tr>\n",
       "      <th>30.0</th>\n",
       "      <th>9.0</th>\n",
       "      <td>5.931393</td>\n",
       "      <td>8.692435</td>\n",
       "      <td>6.0</td>\n",
       "      <td>8.0</td>\n",
       "      <td>1.308759</td>\n",
       "      <td>1.0</td>\n",
       "      <td>2.939248</td>\n",
       "      <td>2.9</td>\n",
       "    </tr>\n",
       "    <tr>\n",
       "      <th>39.0</th>\n",
       "      <th>12.0</th>\n",
       "      <td>6.644121</td>\n",
       "      <td>11.836172</td>\n",
       "      <td>7.0</td>\n",
       "      <td>8.2</td>\n",
       "      <td>1.223316</td>\n",
       "      <td>1.0</td>\n",
       "      <td>2.959303</td>\n",
       "      <td>2.9</td>\n",
       "    </tr>\n",
       "    <tr>\n",
       "      <th>48.0</th>\n",
       "      <th>15.0</th>\n",
       "      <td>6.962873</td>\n",
       "      <td>14.016743</td>\n",
       "      <td>7.4</td>\n",
       "      <td>8.8</td>\n",
       "      <td>1.164491</td>\n",
       "      <td>1.0</td>\n",
       "      <td>3.223362</td>\n",
       "      <td>3.0</td>\n",
       "    </tr>\n",
       "    <tr>\n",
       "      <th rowspan=\"2\" valign=\"top\">Roll</th>\n",
       "      <th rowspan=\"2\" valign=\"top\">1000.0</th>\n",
       "      <th>3.0</th>\n",
       "      <th>2.0</th>\n",
       "      <td>2.033722</td>\n",
       "      <td>2.035524</td>\n",
       "      <td>2.0</td>\n",
       "      <td>2.0</td>\n",
       "      <td>2.196463</td>\n",
       "      <td>3.0</td>\n",
       "      <td>2.000428</td>\n",
       "      <td>2.0</td>\n",
       "    </tr>\n",
       "    <tr>\n",
       "      <th>13.0</th>\n",
       "      <th>2.0</th>\n",
       "      <td>2.048561</td>\n",
       "      <td>2.105231</td>\n",
       "      <td>2.0</td>\n",
       "      <td>2.0</td>\n",
       "      <td>2.179873</td>\n",
       "      <td>3.0</td>\n",
       "      <td>2.012574</td>\n",
       "      <td>2.0</td>\n",
       "    </tr>\n",
       "    <tr>\n",
       "      <th rowspan=\"2\" valign=\"top\">Scurve</th>\n",
       "      <th rowspan=\"2\" valign=\"top\">1000.0</th>\n",
       "      <th>3.0</th>\n",
       "      <th>2.0</th>\n",
       "      <td>2.033442</td>\n",
       "      <td>2.006502</td>\n",
       "      <td>2.0</td>\n",
       "      <td>2.0</td>\n",
       "      <td>1.743664</td>\n",
       "      <td>3.0</td>\n",
       "      <td>1.988450</td>\n",
       "      <td>2.0</td>\n",
       "    </tr>\n",
       "    <tr>\n",
       "      <th>13.0</th>\n",
       "      <th>2.0</th>\n",
       "      <td>2.040631</td>\n",
       "      <td>2.032976</td>\n",
       "      <td>2.0</td>\n",
       "      <td>2.0</td>\n",
       "      <td>1.742716</td>\n",
       "      <td>3.0</td>\n",
       "      <td>2.014277</td>\n",
       "      <td>2.0</td>\n",
       "    </tr>\n",
       "    <tr>\n",
       "      <th rowspan=\"6\" valign=\"top\">Sphere</th>\n",
       "      <th rowspan=\"6\" valign=\"top\">1000.0</th>\n",
       "      <th>5.0</th>\n",
       "      <th>3.0</th>\n",
       "      <td>2.961716</td>\n",
       "      <td>3.019967</td>\n",
       "      <td>3.0</td>\n",
       "      <td>3.0</td>\n",
       "      <td>3.993347</td>\n",
       "      <td>4.0</td>\n",
       "      <td>2.828709</td>\n",
       "      <td>3.0</td>\n",
       "    </tr>\n",
       "    <tr>\n",
       "      <th>10.0</th>\n",
       "      <th>5.0</th>\n",
       "      <td>4.631092</td>\n",
       "      <td>4.740091</td>\n",
       "      <td>5.0</td>\n",
       "      <td>6.1</td>\n",
       "      <td>6.003999</td>\n",
       "      <td>6.0</td>\n",
       "      <td>4.736865</td>\n",
       "      <td>4.9</td>\n",
       "    </tr>\n",
       "    <tr>\n",
       "      <th>15.0</th>\n",
       "      <th>10.0</th>\n",
       "      <td>8.189919</td>\n",
       "      <td>8.526787</td>\n",
       "      <td>8.1</td>\n",
       "      <td>10.4</td>\n",
       "      <td>11.025315</td>\n",
       "      <td>11.0</td>\n",
       "      <td>8.392103</td>\n",
       "      <td>8.6</td>\n",
       "    </tr>\n",
       "    <tr>\n",
       "      <th>35.0</th>\n",
       "      <th>30.0</th>\n",
       "      <td>19.792762</td>\n",
       "      <td>29.582027</td>\n",
       "      <td>20.5</td>\n",
       "      <td>29.6</td>\n",
       "      <td>30.811456</td>\n",
       "      <td>31.0</td>\n",
       "      <td>21.138476</td>\n",
       "      <td>21.4</td>\n",
       "    </tr>\n",
       "    <tr>\n",
       "      <th>55.0</th>\n",
       "      <th>50.0</th>\n",
       "      <td>28.389587</td>\n",
       "      <td>50.090070</td>\n",
       "      <td>29.7</td>\n",
       "      <td>49.5</td>\n",
       "      <td>50.971918</td>\n",
       "      <td>51.0</td>\n",
       "      <td>31.093704</td>\n",
       "      <td>31.7</td>\n",
       "    </tr>\n",
       "    <tr>\n",
       "      <th>75.0</th>\n",
       "      <th>70.0</th>\n",
       "      <td>35.100652</td>\n",
       "      <td>67.677164</td>\n",
       "      <td>36.7</td>\n",
       "      <td>69.3</td>\n",
       "      <td>71.342877</td>\n",
       "      <td>71.0</td>\n",
       "      <td>38.185681</td>\n",
       "      <td>40.9</td>\n",
       "    </tr>\n",
       "    <tr>\n",
       "      <th rowspan=\"2\" valign=\"top\">Spiral</th>\n",
       "      <th rowspan=\"2\" valign=\"top\">1000.0</th>\n",
       "      <th>3.0</th>\n",
       "      <th>1.0</th>\n",
       "      <td>1.547495</td>\n",
       "      <td>1.974704</td>\n",
       "      <td>1.0</td>\n",
       "      <td>1.0</td>\n",
       "      <td>2.010344</td>\n",
       "      <td>2.0</td>\n",
       "      <td>0.988890</td>\n",
       "      <td>1.0</td>\n",
       "    </tr>\n",
       "    <tr>\n",
       "      <th>13.0</th>\n",
       "      <th>1.0</th>\n",
       "      <td>1.528277</td>\n",
       "      <td>1.952715</td>\n",
       "      <td>1.0</td>\n",
       "      <td>1.0</td>\n",
       "      <td>2.022800</td>\n",
       "      <td>2.0</td>\n",
       "      <td>0.982089</td>\n",
       "      <td>1.0</td>\n",
       "    </tr>\n",
       "  </tbody>\n",
       "</table>\n",
       "</div>"
      ],
      "text/plain": [
       "                                          MLE     GeoMLE  MIND  DANCo  \\\n",
       "Dataset        Num    Dim  RealDim                                      \n",
       "Affine         1000.0 5.0  5.0       5.020814   4.998816   5.0    5.0   \n",
       "                      10.0 10.0      8.990513  10.000000   9.0   10.0   \n",
       "                      20.0 20.0     15.107916  20.000000  15.9   19.9   \n",
       "Affine_3to5    1000.0 5.0  3.0       3.063209   3.037318   3.0    3.1   \n",
       "Helicoid       1000.0 3.0  2.0       2.099377   2.022600   2.0    2.0   \n",
       "                      13.0 2.0       2.096877   2.018808   2.0    2.0   \n",
       "Helix1d        1000.0 3.0  1.0       1.069185   0.936972   1.0    1.0   \n",
       "                      13.0 1.0       1.045382   0.584697   1.0    1.0   \n",
       "Helix2d        1000.0 3.0  2.0       2.471712   1.549056   2.0    2.1   \n",
       "                      13.0 2.0       2.472843   1.806733   2.0    2.0   \n",
       "Moebius        1000.0 3.0  2.0       2.062018   2.022438   2.0    2.0   \n",
       "Nonlinear      1000.0 8.0  4.0       4.081218   3.993467   4.0    5.0   \n",
       "                      36.0 6.0       5.998835   6.423197   6.0    7.1   \n",
       "                      64.0 8.0       7.792259   8.730836   8.0    9.0   \n",
       "                      72.0 12.0     10.855378  13.433242  11.0   13.2   \n",
       "Nonlinear_4to6 1000.0 6.0  4.0       3.926262   4.070970   4.0    5.0   \n",
       "Norm           1000.0 10.0 5.0       4.990759   5.396950   5.0    6.0   \n",
       "                      15.0 10.0      9.023456  10.704392   9.1   10.3   \n",
       "                      35.0 30.0     19.672006  32.112742  20.6   31.4   \n",
       "                      55.0 50.0     27.073239  51.709286  28.4   50.7   \n",
       "                      75.0 70.0     33.057989  72.317066  35.1   68.2   \n",
       "Paraboloid     1000.0 12.0 3.0       2.832962   2.941758   3.0    3.0   \n",
       "                      21.0 6.0       4.729833   5.812629   5.0    6.6   \n",
       "                      30.0 9.0       5.931393   8.692435   6.0    8.0   \n",
       "                      39.0 12.0      6.644121  11.836172   7.0    8.2   \n",
       "                      48.0 15.0      6.962873  14.016743   7.4    8.8   \n",
       "Roll           1000.0 3.0  2.0       2.033722   2.035524   2.0    2.0   \n",
       "                      13.0 2.0       2.048561   2.105231   2.0    2.0   \n",
       "Scurve         1000.0 3.0  2.0       2.033442   2.006502   2.0    2.0   \n",
       "                      13.0 2.0       2.040631   2.032976   2.0    2.0   \n",
       "Sphere         1000.0 5.0  3.0       2.961716   3.019967   3.0    3.0   \n",
       "                      10.0 5.0       4.631092   4.740091   5.0    6.1   \n",
       "                      15.0 10.0      8.189919   8.526787   8.1   10.4   \n",
       "                      35.0 30.0     19.792762  29.582027  20.5   29.6   \n",
       "                      55.0 50.0     28.389587  50.090070  29.7   49.5   \n",
       "                      75.0 70.0     35.100652  67.677164  36.7   69.3   \n",
       "Spiral         1000.0 3.0  1.0       1.547495   1.974704   1.0    1.0   \n",
       "                      13.0 1.0       1.528277   1.952715   1.0    1.0   \n",
       "\n",
       "                                          ESS   PCA         CD  Hein  \n",
       "Dataset        Num    Dim  RealDim                                    \n",
       "Affine         1000.0 5.0  5.0       4.968821   5.0   4.813513   5.0  \n",
       "                      10.0 10.0     10.046645  10.0   8.437193   8.8  \n",
       "                      20.0 20.0     19.893082  20.0  13.587803  14.4  \n",
       "Affine_3to5    1000.0 5.0  3.0       2.622393   3.0   2.985264   3.0  \n",
       "Helicoid       1000.0 3.0  2.0       2.595938   3.0   2.028393   2.0  \n",
       "                      13.0 2.0       2.591167   3.0   2.015797   2.0  \n",
       "Helix1d        1000.0 3.0  1.0       2.878401   3.0   0.959202   1.0  \n",
       "                      13.0 1.0       2.857758   3.0   0.975039   1.0  \n",
       "Helix2d        1000.0 3.0  2.0       2.093870   2.0   2.015928   2.0  \n",
       "                      13.0 2.0       2.112224   2.0   1.964734   2.0  \n",
       "Moebius        1000.0 3.0  2.0       1.805454   2.0   1.988716   2.0  \n",
       "Nonlinear      1000.0 8.0  4.0       5.195866   8.0   3.870462   4.0  \n",
       "                      36.0 6.0       7.779084  12.0   5.654124   5.9  \n",
       "                      64.0 8.0      10.451486  16.0   7.233379   7.6  \n",
       "                      72.0 12.0     15.576719  24.0   9.823021  10.2  \n",
       "Nonlinear_4to6 1000.0 6.0  4.0       2.959484   4.0   3.757939   4.0  \n",
       "Norm           1000.0 10.0 5.0       4.958178   5.0   4.717071   4.9  \n",
       "                      15.0 10.0      9.898405  10.0   8.358798   8.9  \n",
       "                      35.0 30.0     29.963357  30.0  17.885251  19.2  \n",
       "                      55.0 50.0     49.714747  50.0  24.072621  25.9  \n",
       "                      75.0 70.0     69.729688  70.0  29.217024  31.9  \n",
       "Paraboloid     1000.0 12.0 3.0       1.785243   1.0   2.176015   2.0  \n",
       "                      21.0 6.0       1.473727   1.0   2.608070   2.6  \n",
       "                      30.0 9.0       1.308759   1.0   2.939248   2.9  \n",
       "                      39.0 12.0      1.223316   1.0   2.959303   2.9  \n",
       "                      48.0 15.0      1.164491   1.0   3.223362   3.0  \n",
       "Roll           1000.0 3.0  2.0       2.196463   3.0   2.000428   2.0  \n",
       "                      13.0 2.0       2.179873   3.0   2.012574   2.0  \n",
       "Scurve         1000.0 3.0  2.0       1.743664   3.0   1.988450   2.0  \n",
       "                      13.0 2.0       1.742716   3.0   2.014277   2.0  \n",
       "Sphere         1000.0 5.0  3.0       3.993347   4.0   2.828709   3.0  \n",
       "                      10.0 5.0       6.003999   6.0   4.736865   4.9  \n",
       "                      15.0 10.0     11.025315  11.0   8.392103   8.6  \n",
       "                      35.0 30.0     30.811456  31.0  21.138476  21.4  \n",
       "                      55.0 50.0     50.971918  51.0  31.093704  31.7  \n",
       "                      75.0 70.0     71.342877  71.0  38.185681  40.9  \n",
       "Spiral         1000.0 3.0  1.0       2.010344   2.0   0.988890   1.0  \n",
       "                      13.0 1.0       2.022800   2.0   0.982089   1.0  "
      ]
     },
     "execution_count": 38,
     "metadata": {},
     "output_type": "execute_result"
    }
   ],
   "source": [
    "df.groupby(['Dataset', 'Num', 'Dim', 'RealDim']).mean()"
   ]
  },
  {
   "cell_type": "code",
   "execution_count": 39,
   "metadata": {},
   "outputs": [
    {
     "data": {
      "image/png": "[encoded data removed]",
      "text/plain": [
       "<Figure size 864x576 with 1 Axes>"
      ]
     },
     "metadata": {
      "needs_background": "light"
     },
     "output_type": "display_data"
    }
   ],
   "source": [
    "dfr = df.copy().round()\n",
    "names = dfr.columns.difference(['Dataset', 'Num', 'Dim', 'RealDim'])\n",
    "\n",
    "f, ax = plt.subplots(1, 1, figsize=(12, 8))\n",
    "nsteps = 5001\n",
    "max_tau = 40\n",
    "errors_total = abs(dfr[names].sub(dfr['RealDim'], axis=0).values)\n",
    "errors_total = np.max([errors_total, np.ones_like(errors_total)], axis=0)\n",
    "\n",
    "\n",
    "taus = np.linspace(1, max_tau, nsteps)        \n",
    "rhos = np.zeros((nsteps, len(names)))\n",
    "for cnt, tau in enumerate(taus):\n",
    "    rhos[cnt] = np.sum(errors_total <= tau, axis=0)\n",
    "\n",
    "for i in range(len(names)):\n",
    "    ax.plot(taus, rhos[:,i]/errors_total.shape[0], label=names[i])\n",
    "\n",
    "ax.set_title('Dolan-More Curve')\n",
    "ax.legend()\n",
    "ax.grid()\n",
    "\n"
   ]
  },
  {
   "cell_type": "code",
   "execution_count": 40,
   "metadata": {},
   "outputs": [],
   "source": [
    "df.to_csv('result/result_nonuniform_dm.csv', index_label=False)"
   ]
  },
  {
   "cell_type": "markdown",
   "metadata": {},
   "source": [
    "## Dependece on noise"
   ]
  },
  {
   "cell_type": "code",
   "execution_count": 36,
   "metadata": {},
   "outputs": [],
   "source": [
    "DE = DimEst()\n",
    "DG = DataGenerator()"
   ]
  },
  {
   "cell_type": "code",
   "execution_count": 37,
   "metadata": {},
   "outputs": [
    {
     "data": {
      "text/plain": [
       "dict_keys(['Helix1d', 'Helix2d', 'Helicoid', 'Spiral', 'Roll', 'Scurve', 'Star', 'Moebius', 'Sphere', 'Norm', 'Uniform', 'Cubic', 'Affine_3to5', 'Affine', 'Nonlinear_4to6', 'Nonlinear', 'Paraboloid'])"
      ]
     },
     "execution_count": 37,
     "metadata": {},
     "output_type": "execute_result"
    }
   ],
   "source": [
    "DG.dict_gen.keys()"
   ]
  },
  {
   "cell_type": "code",
   "execution_count": 38,
   "metadata": {},
   "outputs": [],
   "source": [
    "steps = [\n",
    "    ('Sphere',  5,  3),\n",
    "    ('Sphere',  10, 5),\n",
    "    ('Sphere',  15, 10),\n",
    "    ('Sphere',  35, 30),\n",
    "    ('Sphere',  55, 50),\n",
    "    ('Sphere',  75, 70),\n",
    "    \n",
    "    ('Affine_3to5',  5,  3),\n",
    "    ('Affine',       5,  5),\n",
    "    ('Affine',       10, 10),\n",
    "    ('Affine',       20, 20),\n",
    "    \n",
    "    ('Nonlinear_4to6',  6,  4),\n",
    "    ('Nonlinear',       8,  4),\n",
    "    ('Nonlinear',       36, 6),\n",
    "    ('Nonlinear',       64, 8),\n",
    "    ('Nonlinear',       72, 12),\n",
    "    \n",
    "    ('Spiral',   3,  1),\n",
    "    ('Spiral',   13, 1),\n",
    "    ('Helix1d',  3,  1),\n",
    "    ('Helix1d',  13, 1),\n",
    "    ('Helix2d',  3,  2),\n",
    "    ('Helix2d',  13, 2),\n",
    "    ('Helicoid', 3,  2),\n",
    "    ('Helicoid', 13, 2),\n",
    "    ('Roll',     3,  2),\n",
    "    ('Roll',     13, 2),\n",
    "    ('Scurve',   3,  2),\n",
    "    ('Scurve',   13, 2),\n",
    "    ('Moebius',  3,  2),\n",
    "    \n",
    "    ('Uniform', 10, 5),\n",
    "    ('Uniform', 15, 10),\n",
    "    ('Uniform', 35, 30),\n",
    "    ('Uniform', 55, 50),\n",
    "    ('Uniform', 75, 70),\n",
    "     \n",
    "    ('Norm', 20, 20),\n",
    "    ('Norm', 50, 20),\n",
    "    ('Norm', 50, 50),\n",
    "    ('Norm', 70, 50),\n",
    "    \n",
    "    ('Paraboloid', 12, 3),\n",
    "    ('Paraboloid', 21, 6),\n",
    "    ('Paraboloid', 30, 9),\n",
    "    ('Paraboloid', 39, 12),\n",
    "    ('Paraboloid', 48, 15),\n",
    "    \n",
    "    ('Cubic', 5,  3),\n",
    "    ('Cubic', 35, 30),\n",
    "    ('Cubic', 90, 70),\n",
    "]"
   ]
  },
  {
   "cell_type": "code",
   "execution_count": 39,
   "metadata": {},
   "outputs": [
    {
     "data": {
      "text/plain": [
       "45"
      ]
     },
     "execution_count": 39,
     "metadata": {},
     "output_type": "execute_result"
    }
   ],
   "source": [
    "len(steps)"
   ]
  },
  {
   "cell_type": "code",
   "execution_count": 45,
   "metadata": {},
   "outputs": [],
   "source": [
    "def add_args(const_args, step):\n",
    "    args = {}\n",
    "    args['N'] = const_args['N']\n",
    "    args['noise'] = const_args['noise']\n",
    "    args['type_sample'] = const_args['type_sample']\n",
    "    args['name'] = step[0]\n",
    "    args['D'] = step[1]\n",
    "    args['d'] = step[2]\n",
    "    return args"
   ]
  },
  {
   "cell_type": "code",
   "execution_count": 46,
   "metadata": {},
   "outputs": [],
   "source": [
    "noise_steps = [0, 0.01, 0.02, 0.03, 0.04, 0.05]                     "
   ]
  },
  {
   "cell_type": "code",
   "execution_count": 48,
   "metadata": {},
   "outputs": [
    {
     "name": "stderr",
     "output_type": "stream",
     "text": [
      "100%|██████████| 225/225 [04:27<00:00,  1.43s/it]\n",
      "100%|██████████| 225/225 [04:27<00:00,  1.15s/it]\n",
      "100%|██████████| 225/225 [04:27<00:00,  1.28s/it]\n",
      "100%|██████████| 225/225 [04:28<00:00,  1.55s/it]\n",
      "100%|██████████| 225/225 [04:27<00:00,  1.11s/it]\n",
      "100%|██████████| 225/225 [04:27<00:00,  1.03s/it]\n"
     ]
    }
   ],
   "source": [
    "names = DE.names\n",
    "n_repetition = 5\n",
    "\n",
    "mpe = []\n",
    "std = []\n",
    "for noise in noise_steps:\n",
    "    args = {'N': 1000, 'noise': noise, 'type_sample': 'uniform'}\n",
    "    df, _ = run_test(run_one_test, steps, args, n_repetition, 12)\n",
    "    dfr = df.round()\n",
    "    mpe_i = abs(dfr[names].sub(dfr['RealDim'], axis=0)).mul(dfr['RealDim']**-1, axis=0).values\n",
    "    mpe.append(mpe_i.mean(axis=0))\n",
    "    std.append(mpe_i.std(axis=0)/np.sqrt(mpe_i.shape[0]))\n",
    "\n",
    "mpe = np.array(mpe)\n",
    "std = np.array(std)"
   ]
  },
  {
   "cell_type": "code",
   "execution_count": 49,
   "metadata": {},
   "outputs": [
    {
     "data": {
      "image/png": "[encoded data removed]",
      "text/plain": [
       "<Figure size 864x576 with 1 Axes>"
      ]
     },
     "metadata": {
      "needs_background": "light"
     },
     "output_type": "display_data"
    }
   ],
   "source": [
    "f, ax = plt.subplots(1, 1, figsize=(12, 8))\n",
    "\n",
    "for mpe_i, std_i, name in zip(mpe.T, std.T, names):\n",
    "    ax.plot(noise_steps, mpe_i, '-*', label=name)\n",
    "    ax.fill_between(noise_steps, mpe_i - std_i, mpe_i + std_i, alpha=0.2)\n",
    "    \n",
    "ax.legend()\n",
    "ax.grid()\n",
    "plt.show()"
   ]
  },
  {
   "cell_type": "code",
   "execution_count": 50,
   "metadata": {},
   "outputs": [],
   "source": [
    "result = pd.DataFrame(mpe, columns=names)\n",
    "result['noise'] = noise_steps\n",
    "result.to_csv('result/result_noise_mpe.csv', index_label=False)"
   ]
  },
  {
   "cell_type": "code",
   "execution_count": 51,
   "metadata": {},
   "outputs": [],
   "source": [
    "result = pd.DataFrame(std, columns=names)\n",
    "result['noise'] = noise_steps\n",
    "result.to_csv('result/result_noise_std.csv', index_label=False)"
   ]
  },
  {
   "cell_type": "code",
   "execution_count": null,
   "metadata": {},
   "outputs": [],
   "source": []
  },
  {
   "cell_type": "markdown",
   "metadata": {},
   "source": [
    "## Time dependance"
   ]
  },
  {
   "cell_type": "markdown",
   "metadata": {},
   "source": [
    "### Dim"
   ]
  },
  {
   "cell_type": "code",
   "execution_count": 109,
   "metadata": {},
   "outputs": [],
   "source": [
    "DE = DimEst()\n",
    "DG = DataGenerator()\n",
    "DG.dict_gen.keys()\n",
    "\n",
    "steps = np.arange(5, 101, 5).tolist()\n",
    "args = {'name': 'Sphere',\n",
    "        'N': 1000,\n",
    "        'noise': 0}"
   ]
  },
  {
   "cell_type": "code",
   "execution_count": 110,
   "metadata": {},
   "outputs": [],
   "source": [
    "def add_args(const_args, step):\n",
    "    args = {**const_args}\n",
    "    args['d'] = step\n",
    "    args['D'] = step + 1\n",
    "    assert len({'name', 'D', 'd', 'N', 'noise'} & set(args.keys())) == 5\n",
    "    return args"
   ]
  },
  {
   "cell_type": "code",
   "execution_count": 111,
   "metadata": {},
   "outputs": [
    {
     "name": "stderr",
     "output_type": "stream",
     "text": [
      "100%|██████████| 100/100 [03:14<00:00,  2.68s/it]\n"
     ]
    }
   ],
   "source": [
    "names = DE.names\n",
    "n_repetition = 5\n",
    "\n",
    "df = run_test(run_one_test, steps, args, n_repetition, return_time=True)"
   ]
  },
  {
   "cell_type": "code",
   "execution_count": 114,
   "metadata": {},
   "outputs": [],
   "source": [
    "df_mean = df.groupby(['Dataset', 'Num', 'Dim', 'RealDim']).mean().reset_index()"
   ]
  },
  {
   "cell_type": "code",
   "execution_count": 117,
   "metadata": {},
   "outputs": [
    {
     "data": {
      "image/png": "[encoded data removed]",
      "text/plain": [
       "<Figure size 864x576 with 1 Axes>"
      ]
     },
     "metadata": {
      "needs_background": "light"
     },
     "output_type": "display_data"
    }
   ],
   "source": [
    "f, ax = plt.subplots(1, 1, figsize=(12, 8))\n",
    "\n",
    "for name in names:\n",
    "    ax.plot(df_mean['RealDim'], df_mean[name], label=name)\n",
    "    \n",
    "plt.yscale('log')\n",
    "ax.legend()\n",
    "ax.grid()\n",
    "plt.show()"
   ]
  },
  {
   "cell_type": "code",
   "execution_count": 118,
   "metadata": {},
   "outputs": [],
   "source": [
    "df.to_csv('result/result_time_dim.csv', index_label=False)"
   ]
  },
  {
   "cell_type": "markdown",
   "metadata": {},
   "source": [
    "### Num"
   ]
  },
  {
   "cell_type": "code",
   "execution_count": 29,
   "metadata": {},
   "outputs": [],
   "source": [
    "DE = DimEst()\n",
    "DG = DataGenerator()\n",
    "DG.dict_gen.keys()\n",
    "\n",
    "steps = np.concatenate((np.arange(100, 1000, 200), \n",
    "                          np.arange(1000, 2000, 250), \n",
    "                          np.arange(2000, 10001, 500))).tolist()  \n",
    "args = {'name': 'Sphere',\n",
    "        'D': 11,\n",
    "        'd': 10,\n",
    "        'noise': 0}"
   ]
  },
  {
   "cell_type": "code",
   "execution_count": 30,
   "metadata": {},
   "outputs": [],
   "source": [
    "def add_args(const_args, step):\n",
    "    args = {**const_args}\n",
    "    args['N'] = step\n",
    "    assert len({'name', 'D', 'd', 'N', 'noise'} & set(args.keys())) == 5\n",
    "    return args"
   ]
  },
  {
   "cell_type": "code",
   "execution_count": 31,
   "metadata": {},
   "outputs": [
    {
     "name": "stderr",
     "output_type": "stream",
     "text": [
      " 95%|█████████▌| 124/130 [06:18<00:14,  2.48s/it]"
     ]
    },
    {
     "name": "stdout",
     "output_type": "stream",
     "text": [
      "WRONG with {'name': 'Sphere', 'D': 11, 'd': 10, 'noise': 0, 'N': 8000}\n"
     ]
    },
    {
     "name": "stderr",
     "output_type": "stream",
     "text": [
      "100%|██████████| 130/130 [06:33<00:00,  2.89s/it]\n"
     ]
    }
   ],
   "source": [
    "names = DE.names\n",
    "n_repetition = 5\n",
    "\n",
    "df = run_test(run_one_test, steps, args, n_repetition, return_time=True)"
   ]
  },
  {
   "cell_type": "code",
   "execution_count": 32,
   "metadata": {},
   "outputs": [],
   "source": [
    "df_mean = df.groupby(['Dataset', 'Num', 'Dim', 'RealDim']).mean().reset_index()"
   ]
  },
  {
   "cell_type": "code",
   "execution_count": 33,
   "metadata": {},
   "outputs": [
    {
     "data": {
      "image/png": "[encoded data removed]",
      "text/plain": [
       "<Figure size 864x576 with 1 Axes>"
      ]
     },
     "metadata": {
      "needs_background": "light"
     },
     "output_type": "display_data"
    }
   ],
   "source": [
    "f, ax = plt.subplots(1, 1, figsize=(12, 8))\n",
    "\n",
    "for name in names:\n",
    "    ax.plot(df_mean['Num'], df_mean[name], label=name)\n",
    "    \n",
    "plt.yscale('log')\n",
    "ax.legend()\n",
    "ax.grid()\n",
    "plt.show()"
   ]
  },
  {
   "cell_type": "code",
   "execution_count": 34,
   "metadata": {},
   "outputs": [],
   "source": [
    "df.to_csv('result/result_time_num.csv', index_label=False)"
   ]
  },
  {
   "cell_type": "code",
   "execution_count": null,
   "metadata": {},
   "outputs": [],
   "source": []
  },
  {
   "cell_type": "markdown",
   "metadata": {},
   "source": [
    "## EXTRA EXPERIMENTS"
   ]
  },
  {
   "cell_type": "markdown",
   "metadata": {},
   "source": [
    "## Dependacne of Num points"
   ]
  },
  {
   "cell_type": "code",
   "execution_count": 52,
   "metadata": {},
   "outputs": [],
   "source": [
    "DE = DimEst()\n",
    "DG = DataGenerator()"
   ]
  },
  {
   "cell_type": "code",
   "execution_count": 53,
   "metadata": {},
   "outputs": [
    {
     "data": {
      "text/plain": [
       "dict_keys(['Helix1d', 'Helix2d', 'Helicoid', 'Spiral', 'Roll', 'Scurve', 'Star', 'Moebius', 'Sphere', 'Norm', 'Uniform', 'Cubic', 'Affine_3to5', 'Affine', 'Nonlinear_4to6', 'Nonlinear', 'Paraboloid'])"
      ]
     },
     "execution_count": 53,
     "metadata": {},
     "output_type": "execute_result"
    }
   ],
   "source": [
    "DG.dict_gen.keys()"
   ]
  },
  {
   "cell_type": "code",
   "execution_count": 54,
   "metadata": {},
   "outputs": [],
   "source": [
    "steps = [\n",
    "    ('Sphere',  5,  3),\n",
    "    ('Sphere',  10, 5),\n",
    "    ('Sphere',  15, 10),\n",
    "    ('Sphere',  35, 30),\n",
    "    ('Sphere',  55, 50),\n",
    "    ('Sphere',  75, 70),\n",
    "    ('Sphere',  100, 75),\n",
    "    ('Sphere',  125, 100),\n",
    "    \n",
    "    ('Affine_3to5',  5,  3),\n",
    "    ('Affine',       5,  5),\n",
    "    ('Affine',       10, 10),\n",
    "    ('Affine',       20, 20),\n",
    "    \n",
    "    ('Nonlinear_4to6',  6,  4),\n",
    "    ('Nonlinear',       8,  4),\n",
    "    ('Nonlinear',       36, 6),\n",
    "    ('Nonlinear',       64, 8),\n",
    "    ('Nonlinear',       72, 12),\n",
    "    \n",
    "    ('Spiral',   3,  1),\n",
    "    ('Spiral',   13, 1),\n",
    "    ('Helix1d',  3,  1),\n",
    "    ('Helix1d',  13, 1),\n",
    "    ('Helix2d',  3,  2),\n",
    "    ('Helix2d',  13, 2),\n",
    "    ('Helicoid', 3,  2),\n",
    "    ('Helicoid', 13, 2),\n",
    "    ('Roll',     3,  2),\n",
    "    ('Roll',     13, 2),\n",
    "    ('Scurve',   3,  2),\n",
    "    ('Scurve',   13, 2),\n",
    "    ('Moebius',  3,  2),\n",
    "    \n",
    "    ('Uniform', 10, 5),\n",
    "    ('Uniform', 15, 10),\n",
    "    ('Uniform', 35, 30),\n",
    "    ('Uniform', 55, 50),\n",
    "    ('Uniform', 75, 70),\n",
    "     \n",
    "    ('Norm', 20, 20),\n",
    "    ('Norm', 50, 20),\n",
    "    ('Norm', 50, 50),\n",
    "    ('Norm', 70, 50),\n",
    "    \n",
    "    ('Paraboloid', 12, 3),\n",
    "    ('Paraboloid', 21, 6),\n",
    "    ('Paraboloid', 30, 9),\n",
    "    ('Paraboloid', 39, 12),\n",
    "    ('Paraboloid', 48, 15),\n",
    "    \n",
    "    ('Cubic', 5,  3),\n",
    "    ('Cubic', 35, 30),\n",
    "    ('Cubic', 90, 70),\n",
    "]"
   ]
  },
  {
   "cell_type": "code",
   "execution_count": 55,
   "metadata": {},
   "outputs": [
    {
     "data": {
      "text/plain": [
       "47"
      ]
     },
     "execution_count": 55,
     "metadata": {},
     "output_type": "execute_result"
    }
   ],
   "source": [
    "len(steps)"
   ]
  },
  {
   "cell_type": "code",
   "execution_count": 60,
   "metadata": {},
   "outputs": [],
   "source": [
    "N_steps = np.concatenate((np.arange(100, 1000, 200), \n",
    "                          np.arange(1000, 2000, 250),\n",
    "                          np.arange(2000, 2501, 500)))                      "
   ]
  },
  {
   "cell_type": "code",
   "execution_count": 61,
   "metadata": {},
   "outputs": [
    {
     "data": {
      "text/plain": [
       "array([ 100,  300,  500,  700,  900, 1000, 1250, 1500, 1750, 2000, 2500])"
      ]
     },
     "execution_count": 61,
     "metadata": {},
     "output_type": "execute_result"
    }
   ],
   "source": [
    "N_steps"
   ]
  },
  {
   "cell_type": "code",
   "execution_count": 62,
   "metadata": {},
   "outputs": [],
   "source": [
    "all_steps = [(N, name, D, d) for name, D, d in steps for N in N_steps]"
   ]
  },
  {
   "cell_type": "code",
   "execution_count": 63,
   "metadata": {},
   "outputs": [
    {
     "data": {
      "text/plain": [
       "517"
      ]
     },
     "execution_count": 63,
     "metadata": {},
     "output_type": "execute_result"
    }
   ],
   "source": [
    "len(all_steps)"
   ]
  },
  {
   "cell_type": "code",
   "execution_count": 67,
   "metadata": {},
   "outputs": [],
   "source": [
    "def add_args(const_args, step):\n",
    "    args = {}\n",
    "    args['noise'] = const_args['noise']\n",
    "    args['type_sample'] = const_args['type_sample']\n",
    "    args['N'] = step[0]\n",
    "    args['name'] = step[1]\n",
    "    args['D'] = step[2]\n",
    "    args['d'] = step[3]\n",
    "    return args"
   ]
  },
  {
   "cell_type": "code",
   "execution_count": 68,
   "metadata": {},
   "outputs": [
    {
     "name": "stderr",
     "output_type": "stream",
     "text": [
      "  5%|▌         | 133/2585 [04:50<54:49,  1.34s/it]  "
     ]
    },
    {
     "name": "stdout",
     "output_type": "stream",
     "text": [
      "WRONG with {'noise': 0, 'type_sample': 'uniform', 'N': 100, 'name': 'Affine', 'D': 20, 'd': 20}\n"
     ]
    },
    {
     "name": "stderr",
     "output_type": "stream",
     "text": [
      "  6%|▌         | 155/2585 [05:31<1:26:18,  2.13s/it]"
     ]
    },
    {
     "name": "stdout",
     "output_type": "stream",
     "text": [
      "WRONG with {'noise': 0, 'type_sample': 'uniform', 'N': 100, 'name': 'Nonlinear', 'D': 8, 'd': 4}\n"
     ]
    },
    {
     "name": "stderr",
     "output_type": "stream",
     "text": [
      " 12%|█▏        | 298/2585 [09:25<39:56,  1.05s/it]  "
     ]
    },
    {
     "name": "stdout",
     "output_type": "stream",
     "text": [
      "WRONG with {'noise': 0, 'type_sample': 'uniform', 'N': 100, 'name': 'Roll', 'D': 13, 'd': 2}\n"
     ]
    },
    {
     "name": "stderr",
     "output_type": "stream",
     "text": [
      " 14%|█▍        | 364/2585 [10:14<35:10,  1.05it/s]"
     ]
    },
    {
     "name": "stdout",
     "output_type": "stream",
     "text": [
      "WRONG with {'noise': 0, 'type_sample': 'uniform', 'N': 100, 'name': 'Uniform', 'D': 35, 'd': 30}\n"
     ]
    },
    {
     "name": "stderr",
     "output_type": "stream",
     "text": [
      " 17%|█▋        | 430/2585 [12:59<1:56:00,  3.23s/it]"
     ]
    },
    {
     "name": "stdout",
     "output_type": "stream",
     "text": [
      "WRONG with {'noise': 0, 'type_sample': 'uniform', 'N': 100, 'name': 'Norm', 'D': 70, 'd': 50}\n"
     ]
    },
    {
     "name": "stderr",
     "output_type": "stream",
     "text": [
      " 18%|█▊        | 463/2585 [14:30<1:31:24,  2.58s/it]"
     ]
    },
    {
     "name": "stdout",
     "output_type": "stream",
     "text": [
      "WRONG with {'noise': 0, 'type_sample': 'uniform', 'N': 100, 'name': 'Paraboloid', 'D': 30, 'd': 9}\n"
     ]
    },
    {
     "name": "stderr",
     "output_type": "stream",
     "text": [
      " 18%|█▊        | 474/2585 [14:49<1:27:14,  2.48s/it]"
     ]
    },
    {
     "name": "stdout",
     "output_type": "stream",
     "text": [
      "WRONG with {'noise': 0, 'type_sample': 'uniform', 'N': 100, 'name': 'Paraboloid', 'D': 39, 'd': 12}\n"
     ]
    },
    {
     "name": "stderr",
     "output_type": "stream",
     "text": [
      " 19%|█▉        | 496/2585 [15:37<1:07:26,  1.94s/it]"
     ]
    },
    {
     "name": "stdout",
     "output_type": "stream",
     "text": [
      "WRONG with {'noise': 0, 'type_sample': 'uniform', 'N': 100, 'name': 'Cubic', 'D': 5, 'd': 3}\n"
     ]
    },
    {
     "name": "stderr",
     "output_type": "stream",
     "text": [
      " 20%|█▉        | 507/2585 [15:57<1:19:22,  2.29s/it]"
     ]
    },
    {
     "name": "stdout",
     "output_type": "stream",
     "text": [
      "WRONG with {'noise': 0, 'type_sample': 'uniform', 'N': 100, 'name': 'Cubic', 'D': 35, 'd': 30}\n"
     ]
    },
    {
     "name": "stderr",
     "output_type": "stream",
     "text": [
      " 21%|██        | 530/2585 [16:51<1:41:33,  2.97s/it]"
     ]
    },
    {
     "name": "stdout",
     "output_type": "stream",
     "text": [
      "WRONG with {'noise': 0, 'type_sample': 'uniform', 'N': 100, 'name': 'Sphere', 'D': 5, 'd': 3}\n"
     ]
    },
    {
     "name": "stderr",
     "output_type": "stream",
     "text": [
      " 23%|██▎       | 595/2585 [19:10<1:26:23,  2.60s/it]"
     ]
    },
    {
     "name": "stdout",
     "output_type": "stream",
     "text": [
      "WRONG with {'noise': 0, 'type_sample': 'uniform', 'N': 100, 'name': 'Sphere', 'D': 100, 'd': 75}\n"
     ]
    },
    {
     "name": "stderr",
     "output_type": "stream",
     "text": [
      " 25%|██▌       | 650/2585 [22:52<51:24,  1.59s/it]  "
     ]
    },
    {
     "name": "stdout",
     "output_type": "stream",
     "text": [
      "WRONG with {'noise': 0, 'type_sample': 'uniform', 'N': 100, 'name': 'Affine', 'D': 20, 'd': 20}\n"
     ]
    },
    {
     "name": "stderr",
     "output_type": "stream",
     "text": [
      " 28%|██▊       | 716/2585 [25:40<2:30:51,  4.84s/it]"
     ]
    },
    {
     "name": "stdout",
     "output_type": "stream",
     "text": [
      "WRONG with {'noise': 0, 'type_sample': 'uniform', 'N': 100, 'name': 'Spiral', 'D': 3, 'd': 1}\n"
     ]
    },
    {
     "name": "stderr",
     "output_type": "stream",
     "text": [
      " 29%|██▉       | 749/2585 [26:32<39:37,  1.29s/it]  "
     ]
    },
    {
     "name": "stdout",
     "output_type": "stream",
     "text": [
      "WRONG with {'noise': 0, 'type_sample': 'uniform', 'N': 100, 'name': 'Helix1d', 'D': 13, 'd': 1}\n"
     ]
    },
    {
     "name": "stderr",
     "output_type": "stream",
     "text": [
      " 36%|███▌      | 925/2585 [30:15<1:37:50,  3.54s/it]"
     ]
    },
    {
     "name": "stdout",
     "output_type": "stream",
     "text": [
      "WRONG with {'noise': 0, 'type_sample': 'uniform', 'N': 100, 'name': 'Norm', 'D': 50, 'd': 20}\n"
     ]
    },
    {
     "name": "stderr",
     "output_type": "stream",
     "text": [
      " 39%|███▉      | 1013/2585 [33:59<56:06,  2.14s/it]  "
     ]
    },
    {
     "name": "stdout",
     "output_type": "stream",
     "text": [
      "WRONG with {'noise': 0, 'type_sample': 'uniform', 'N': 100, 'name': 'Cubic', 'D': 5, 'd': 3}\n"
     ]
    },
    {
     "name": "stderr",
     "output_type": "stream",
     "text": [
      " 49%|████▉     | 1277/2585 [45:17<26:39,  1.22s/it]  "
     ]
    },
    {
     "name": "stdout",
     "output_type": "stream",
     "text": [
      "WRONG with {'noise': 0, 'type_sample': 'uniform', 'N': 100, 'name': 'Helix2d', 'D': 3, 'd': 2}\n"
     ]
    },
    {
     "name": "stderr",
     "output_type": "stream",
     "text": [
      " 55%|█████▌    | 1430/2585 [48:13<1:45:58,  5.51s/it]"
     ]
    },
    {
     "name": "stdout",
     "output_type": "stream",
     "text": [
      "WRONG with {'noise': 0, 'type_sample': 'uniform', 'N': 100, 'name': 'Norm', 'D': 20, 'd': 20}\n"
     ]
    },
    {
     "name": "stderr",
     "output_type": "stream",
     "text": [
      " 59%|█████▉    | 1519/2585 [52:06<1:04:08,  3.61s/it]"
     ]
    },
    {
     "name": "stdout",
     "output_type": "stream",
     "text": [
      "WRONG with {'noise': 0, 'type_sample': 'uniform', 'N': 100, 'name': 'Paraboloid', 'D': 48, 'd': 15}\n"
     ]
    },
    {
     "name": "stderr",
     "output_type": "stream",
     "text": [
      " 62%|██████▏   | 1596/2585 [54:34<28:35,  1.73s/it]  "
     ]
    },
    {
     "name": "stdout",
     "output_type": "stream",
     "text": [
      "WRONG with {'noise': 0, 'type_sample': 'uniform', 'N': 100, 'name': 'Sphere', 'D': 35, 'd': 30}\n"
     ]
    },
    {
     "name": "stderr",
     "output_type": "stream",
     "text": [
      " 66%|██████▌   | 1706/2585 [1:00:37<32:42,  2.23s/it]"
     ]
    },
    {
     "name": "stdout",
     "output_type": "stream",
     "text": [
      "WRONG with {'noise': 0, 'type_sample': 'uniform', 'N': 100, 'name': 'Nonlinear', 'D': 8, 'd': 4}\n"
     ]
    },
    {
     "name": "stderr",
     "output_type": "stream",
     "text": [
      " 69%|██████▉   | 1783/2585 [1:03:35<22:17,  1.67s/it]  "
     ]
    },
    {
     "name": "stdout",
     "output_type": "stream",
     "text": [
      "WRONG with {'noise': 0, 'type_sample': 'uniform', 'N': 100, 'name': 'Helix1d', 'D': 13, 'd': 1}\n"
     ]
    },
    {
     "name": "stderr",
     "output_type": "stream",
     "text": [
      " 70%|███████   | 1816/2585 [1:04:10<09:18,  1.38it/s]"
     ]
    },
    {
     "name": "stdout",
     "output_type": "stream",
     "text": [
      "WRONG with {'noise': 0, 'type_sample': 'uniform', 'N': 100, 'name': 'Helicoid', 'D': 3, 'd': 2}\n"
     ]
    },
    {
     "name": "stderr",
     "output_type": "stream",
     "text": [
      " 72%|███████▏  | 1871/2585 [1:05:00<11:00,  1.08it/s]"
     ]
    },
    {
     "name": "stdout",
     "output_type": "stream",
     "text": [
      "WRONG with {'noise': 0, 'type_sample': 'uniform', 'N': 100, 'name': 'Scurve', 'D': 13, 'd': 2}\n"
     ]
    },
    {
     "name": "stderr",
     "output_type": "stream",
     "text": [
      " 77%|███████▋  | 1992/2585 [1:09:08<42:39,  4.32s/it]"
     ]
    },
    {
     "name": "stdout",
     "output_type": "stream",
     "text": [
      "WRONG with {'noise': 0, 'type_sample': 'uniform', 'N': 100, 'name': 'Paraboloid', 'D': 12, 'd': 3}\n"
     ]
    },
    {
     "name": "stderr",
     "output_type": "stream",
     "text": [
      " 78%|███████▊  | 2025/2585 [1:10:15<23:05,  2.47s/it]"
     ]
    },
    {
     "name": "stdout",
     "output_type": "stream",
     "text": [
      "WRONG with {'noise': 0, 'type_sample': 'uniform', 'N': 100, 'name': 'Paraboloid', 'D': 39, 'd': 12}\n"
     ]
    },
    {
     "name": "stderr",
     "output_type": "stream",
     "text": [
      " 83%|████████▎ | 2157/2585 [1:15:56<55:59,  7.85s/it]  "
     ]
    },
    {
     "name": "stdout",
     "output_type": "stream",
     "text": [
      "WRONG with {'noise': 0, 'type_sample': 'uniform', 'N': 100, 'name': 'Sphere', 'D': 125, 'd': 100}\n"
     ]
    },
    {
     "name": "stderr",
     "output_type": "stream",
     "text": [
      " 86%|████████▌ | 2212/2585 [1:18:46<12:09,  1.96s/it]  "
     ]
    },
    {
     "name": "stdout",
     "output_type": "stream",
     "text": [
      "WRONG with {'noise': 0, 'type_sample': 'uniform', 'N': 100, 'name': 'Nonlinear_4to6', 'D': 6, 'd': 4}\n"
     ]
    },
    {
     "name": "stderr",
     "output_type": "stream",
     "text": [
      " 87%|████████▋ | 2245/2585 [1:19:40<10:57,  1.93s/it]"
     ]
    },
    {
     "name": "stdout",
     "output_type": "stream",
     "text": [
      "WRONG with {'noise': 0, 'type_sample': 'uniform', 'N': 100, 'name': 'Nonlinear', 'D': 64, 'd': 8}\n"
     ]
    },
    {
     "name": "stderr",
     "output_type": "stream",
     "text": [
      " 89%|████████▉ | 2311/2585 [1:22:26<05:48,  1.27s/it]"
     ]
    },
    {
     "name": "stdout",
     "output_type": "stream",
     "text": [
      "WRONG with {'noise': 0, 'type_sample': 'uniform', 'N': 100, 'name': 'Helix2d', 'D': 3, 'd': 2}\n"
     ]
    },
    {
     "name": "stderr",
     "output_type": "stream",
     "text": [
      " 92%|█████████▏| 2366/2585 [1:23:17<03:04,  1.18it/s]"
     ]
    },
    {
     "name": "stdout",
     "output_type": "stream",
     "text": [
      "WRONG with {'noise': 0, 'type_sample': 'uniform', 'N': 100, 'name': 'Roll', 'D': 13, 'd': 2}\n"
     ]
    },
    {
     "name": "stderr",
     "output_type": "stream",
     "text": [
      " 92%|█████████▏| 2376/2585 [1:23:26<03:01,  1.15it/s]"
     ]
    },
    {
     "name": "stdout",
     "output_type": "stream",
     "text": [
      "WRONG with {'noise': 0, 'type_sample': 'uniform', 'N': 100, 'name': 'Scurve', 'D': 3, 'd': 2}\n"
     ]
    },
    {
     "name": "stderr",
     "output_type": "stream",
     "text": [
      " 97%|█████████▋| 2520/2585 [1:28:18<03:41,  3.40s/it]"
     ]
    },
    {
     "name": "stdout",
     "output_type": "stream",
     "text": [
      "WRONG with {'noise': 0, 'type_sample': 'uniform', 'N': 100, 'name': 'Paraboloid', 'D': 21, 'd': 6}\n"
     ]
    },
    {
     "name": "stderr",
     "output_type": "stream",
     "text": [
      " 99%|█████████▉| 2553/2585 [1:29:20<01:38,  3.08s/it]"
     ]
    },
    {
     "name": "stdout",
     "output_type": "stream",
     "text": [
      "WRONG with {'noise': 0, 'type_sample': 'uniform', 'N': 100, 'name': 'Paraboloid', 'D': 48, 'd': 15}\n"
     ]
    },
    {
     "name": "stderr",
     "output_type": "stream",
     "text": [
      "100%|██████████| 2585/2585 [1:30:17<00:00,  1.60s/it]\n"
     ]
    }
   ],
   "source": [
    "names = DE.names\n",
    "n_repetition = 5\n",
    "\n",
    "mpe = []\n",
    "args = {'noise': 0, 'type_sample': 'uniform'}\n",
    "df = run_test(run_one_test, all_steps, args, n_repetition)"
   ]
  },
  {
   "cell_type": "code",
   "execution_count": 71,
   "metadata": {},
   "outputs": [],
   "source": [
    "df, _ = df"
   ]
  },
  {
   "cell_type": "code",
   "execution_count": 72,
   "metadata": {},
   "outputs": [],
   "source": [
    "dfr = df.round()"
   ]
  },
  {
   "cell_type": "code",
   "execution_count": 73,
   "metadata": {},
   "outputs": [
    {
     "data": {
      "text/plain": [
       "['MLE', 'GeoMLE', 'MIND', 'DANCo', 'ESS', 'PCA', 'CD', 'Hein']"
      ]
     },
     "execution_count": 73,
     "metadata": {},
     "output_type": "execute_result"
    }
   ],
   "source": [
    "names"
   ]
  },
  {
   "cell_type": "code",
   "execution_count": 74,
   "metadata": {},
   "outputs": [],
   "source": [
    "dfr[names] = abs(dfr[names].sub(dfr['RealDim'], axis=0)).mul(dfr['RealDim']**-1, axis=0)\n",
    "\n",
    "mpe = dfr.groupby('Num')[names].mean().values\n",
    "std = dfr.groupby('Num')[names].std().values / dfr.groupby('Num')[names].count().values"
   ]
  },
  {
   "cell_type": "code",
   "execution_count": 75,
   "metadata": {},
   "outputs": [
    {
     "data": {
      "image/png": "[encoded data removed]",
      "text/plain": [
       "<Figure size 864x576 with 1 Axes>"
      ]
     },
     "metadata": {
      "needs_background": "light"
     },
     "output_type": "display_data"
    }
   ],
   "source": [
    "f, ax = plt.subplots(1, 1, figsize=(12, 8))\n",
    "\n",
    "for mpe_i, std_i, name in zip(mpe.T, std.T, names):\n",
    "    ax.plot(N_steps, mpe_i, label=name)\n",
    "    ax.fill_between(N_steps, mpe_i-std_i, mpe_i+std_i, alpha=0.4)\n",
    "    \n",
    "ax.legend(loc=5)\n",
    "ax.grid()\n",
    "plt.show()"
   ]
  },
  {
   "cell_type": "code",
   "execution_count": 63,
   "metadata": {},
   "outputs": [],
   "source": [
    "df.to_csv('result/result_num.csv', index_label=False)"
   ]
  }
 ],
 "metadata": {
  "kernelspec": {
   "display_name": "Python 3",
   "language": "python",
   "name": "python3"
  },
  "language_info": {
   "codemirror_mode": {
    "name": "ipython",
    "version": 3
   },
   "file_extension": ".py",
   "mimetype": "text/x-python",
   "name": "python",
   "nbconvert_exporter": "python",
   "pygments_lexer": "ipython3",
   "version": "3.7.3"
  }
 },
 "nbformat": 4,
 "nbformat_minor": 2
}
